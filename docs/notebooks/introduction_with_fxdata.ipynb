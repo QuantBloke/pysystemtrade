{
 "cells": [
  {
   "cell_type": "markdown",
   "id": "07a8e0d8",
   "metadata": {},
   "source": [
    "## Modified introduction using forex data"
   ]
  },
  {
   "cell_type": "markdown",
   "id": "db9723dc",
   "metadata": {},
   "source": [
    "This is the trading rule example shown in [the introduction](https://github.com/robcarver17/pysystemtrade/blob/master/docs/introduction.md) but modified to use Interactive Brokers instead of CSV files as data source.  \n",
    "\n",
    "IB requires a minimum equity and a monthly subscription to provide historical data on future contracts.  This example was modified to use FX prices instead futures to make it runnable with free unfunded paper trading accounts.  Note that Rob [does not recommend trading FX spot data with IB due to their high fees](https://github.com/robcarver17/pysystemtrade/issues/517#issuecomment-1010770678)."
   ]
  },
  {
   "cell_type": "markdown",
   "id": "d855c448",
   "metadata": {},
   "source": [
    "First, import the required packages and initialize ib_insync.  "
   ]
  },
  {
   "cell_type": "code",
   "execution_count": 1,
   "id": "3b6f4071",
   "metadata": {},
   "outputs": [],
   "source": [
    "from sysbrokers.IB.ib_connection import connectionIB\n",
    "from sysbrokers.IB.ib_Fx_prices_data import ibFxPricesData\n",
    "\n",
    "from ib_insync import util\n",
    "util.startLoop() #only required when running inside a notebook"
   ]
  },
  {
   "cell_type": "markdown",
   "id": "70963367",
   "metadata": {},
   "source": [
    "Connecting to Interactive Brokers gateway..."
   ]
  },
  {
   "cell_type": "code",
   "execution_count": 2,
   "id": "4ce91bcf",
   "metadata": {},
   "outputs": [
    {
     "data": {
      "text/plain": [
       "IB broker connection{'ipaddress': 'localhost', 'port': 4001, 'client': 111}"
      ]
     },
     "execution_count": 2,
     "metadata": {},
     "output_type": "execute_result"
    }
   ],
   "source": [
    "conn = connectionIB(111)\n",
    "conn"
   ]
  },
  {
   "cell_type": "markdown",
   "id": "77a3526b",
   "metadata": {},
   "source": [
    "See what fx instruments we have configured.  These are configured in `sysbrokers/IB/ib_config_spot_FX.csv`"
   ]
  },
  {
   "cell_type": "code",
   "execution_count": 3,
   "id": "86db67ca",
   "metadata": {
    "scrolled": true
   },
   "outputs": [
    {
     "data": {
      "text/plain": [
       "['AUDUSD',\n",
       " 'CADUSD',\n",
       " 'CHFUSD',\n",
       " 'EURUSD',\n",
       " 'GBPUSD',\n",
       " 'HKDUSD',\n",
       " 'JPYUSD',\n",
       " 'KRWUSD',\n",
       " 'CNHUSD',\n",
       " 'SGDUSD']"
      ]
     },
     "execution_count": 3,
     "metadata": {},
     "output_type": "execute_result"
    }
   ],
   "source": [
    "ibfxpricedata = ibFxPricesData(conn)\n",
    "ibfxpricedata.get_list_of_fxcodes()"
   ]
  },
  {
   "cell_type": "markdown",
   "id": "c2dbdd12",
   "metadata": {},
   "source": [
    "Now we select one instrument (`EURUSD`) and try to fetch historical data for it."
   ]
  },
  {
   "cell_type": "code",
   "execution_count": 4,
   "id": "6748a9c6",
   "metadata": {},
   "outputs": [
    {
     "data": {
      "text/plain": [
       "index\n",
       "2021-11-18 23:00:00    1.13710\n",
       "2021-11-19 23:00:00    1.12815\n",
       "2021-11-22 23:00:00    1.12370\n",
       "2021-11-23 23:00:00    1.12485\n",
       "2021-11-24 23:00:00    1.12005\n",
       "                        ...   \n",
       "2022-11-11 23:00:00    1.03445\n",
       "2022-11-14 23:00:00    1.03270\n",
       "2022-11-15 23:00:00    1.03495\n",
       "2022-11-16 23:00:00    1.03950\n",
       "2022-11-17 23:00:00    1.03290\n",
       "Name: FINAL, Length: 261, dtype: float64"
      ]
     },
     "execution_count": 4,
     "metadata": {},
     "output_type": "execute_result"
    }
   ],
   "source": [
    "ibfxpricedata.get_fx_prices('EURUSD')"
   ]
  },
  {
   "cell_type": "markdown",
   "id": "b480ed7e",
   "metadata": {},
   "source": [
    "Data can also be indexed as a python dict:"
   ]
  },
  {
   "cell_type": "code",
   "execution_count": 5,
   "id": "b05e7852",
   "metadata": {},
   "outputs": [
    {
     "data": {
      "text/plain": [
       "index\n",
       "2021-11-18 23:00:00    0.008752\n",
       "2021-11-19 23:00:00    0.008772\n",
       "2021-11-22 23:00:00    0.008705\n",
       "2021-11-23 23:00:00    0.008685\n",
       "2021-11-24 23:00:00    0.008663\n",
       "                         ...   \n",
       "2022-11-11 23:00:00    0.007205\n",
       "2022-11-14 23:00:00    0.007147\n",
       "2022-11-15 23:00:00    0.007180\n",
       "2022-11-16 23:00:00    0.007167\n",
       "2022-11-17 23:00:00    0.007109\n",
       "Name: FINAL, Length: 261, dtype: float64"
      ]
     },
     "execution_count": 5,
     "metadata": {},
     "output_type": "execute_result"
    }
   ],
   "source": [
    "ibfxpricedata['JPYUSD']"
   ]
  },
  {
   "cell_type": "markdown",
   "id": "86a059a1",
   "metadata": {},
   "source": [
    "Create the trading rule"
   ]
  },
  {
   "cell_type": "code",
   "execution_count": 6,
   "id": "ab5b324a",
   "metadata": {},
   "outputs": [],
   "source": [
    "import pandas as pd\n",
    "from sysquant.estimators.vol import robust_vol_calc\n",
    "\n",
    "\n",
    "def calc_ewmac_forecast(price, Lfast, Lslow=None):\n",
    "    \"\"\"\n",
    "    Calculate the ewmac trading rule forecast, given a price and EWMA speeds Lfast, Lslow and vol_lookback\n",
    "\n",
    "    \"\"\"\n",
    "    if Lslow is None:\n",
    "        Lslow = 4 * Lfast\n",
    "\n",
    "    ## We don't need to calculate the decay parameter, just use the span directly\n",
    "    fast_ewma = price.ewm(span=Lfast).mean()\n",
    "    slow_ewma = price.ewm(span=Lslow).mean()\n",
    "    raw_ewmac = fast_ewma - slow_ewma\n",
    "\n",
    "    vol = robust_vol_calc(price.diff())\n",
    "\n",
    "    return raw_ewmac / vol"
   ]
  },
  {
   "cell_type": "markdown",
   "id": "44f122dc",
   "metadata": {},
   "source": [
    "Run a forecast with the previous rule"
   ]
  },
  {
   "cell_type": "code",
   "execution_count": 7,
   "id": "e09da640",
   "metadata": {},
   "outputs": [
    {
     "data": {
      "text/plain": [
       "index\n",
       "2022-11-11 23:00:00   -2.062827\n",
       "2022-11-14 23:00:00   -1.893241\n",
       "2022-11-15 23:00:00   -1.727576\n",
       "2022-11-16 23:00:00   -1.539589\n",
       "2022-11-17 23:00:00   -1.355229\n",
       "Name: FINAL, dtype: float64"
      ]
     },
     "execution_count": 7,
     "metadata": {},
     "output_type": "execute_result"
    }
   ],
   "source": [
    "price=ibfxpricedata['EURUSD']\n",
    "ewmac=calc_ewmac_forecast(price, 32, 128)\n",
    "ewmac.tail(5)"
   ]
  },
  {
   "cell_type": "code",
   "execution_count": 8,
   "id": "fd8e9ae2",
   "metadata": {},
   "outputs": [
    {
     "data": {
      "image/png": "[encoded data removed]",
      "text/plain": [
       "<Figure size 864x360 with 2 Axes>"
      ]
     },
     "metadata": {
      "needs_background": "light"
     },
     "output_type": "display_data"
    }
   ],
   "source": [
    "import matplotlib.pyplot as plt\n",
    "\n",
    "plt.figure(figsize=(12,5))\n",
    "\n",
    "ax1 = price.plot(color='blue', grid=True, label='Forecast')\n",
    "ax2 = ewmac.plot(color='red', grid=True, secondary_y=True, label='Price')\n",
    "\n",
    "h1, l1 = ax1.get_legend_handles_labels()\n",
    "h2, l2 = ax2.get_legend_handles_labels()\n",
    "\n",
    "\n",
    "plt.legend(h1+h2, l1+l2, loc=2)\n",
    "plt.show()"
   ]
  },
  {
   "cell_type": "markdown",
   "id": "04d63dc1",
   "metadata": {},
   "source": [
    "The original introduction jumps directly to \"Did we make any money?\".  \n",
    "I would like to see here the orders that were triggered by this forecast, but instead we jump directly into P&L.  Still, these are the P&L numbers for this forecast and data:"
   ]
  },
  {
   "cell_type": "code",
   "execution_count": 9,
   "id": "2939bcdd",
   "metadata": {},
   "outputs": [
    {
     "data": {
      "text/plain": [
       "[[('min', '-1.11'),\n",
       "  ('max', '1.595'),\n",
       "  ('median', '-0.002786'),\n",
       "  ('mean', '0.01743'),\n",
       "  ('std', '0.3855'),\n",
       "  ('skew', '0.2911'),\n",
       "  ('ann_mean', '4.239'),\n",
       "  ('ann_std', '6.167'),\n",
       "  ('sharpe', '0.6873'),\n",
       "  ('sortino', '0.9614'),\n",
       "  ('avg_drawdown', '-0.8879'),\n",
       "  ('time_in_drawdown', '0.8831'),\n",
       "  ('calmar', '0.9932'),\n",
       "  ('avg_return_to_drawdown', '4.774'),\n",
       "  ('avg_loss', '-0.2215'),\n",
       "  ('avg_gain', '0.2722'),\n",
       "  ('gaintolossratio', '1.229'),\n",
       "  ('profitfactor', '1.152'),\n",
       "  ('hitrate', '0.4839'),\n",
       "  ('t_stat', '0.712'),\n",
       "  ('p_value', '0.4772')],\n",
       " ('You can also plot / print:',\n",
       "  ['rolling_ann_std', 'drawdown', 'curve', 'percent'])]"
      ]
     },
     "execution_count": 9,
     "metadata": {},
     "output_type": "execute_result"
    }
   ],
   "source": [
    "from systems.accounts.account_forecast import pandl_for_instrument_forecast\n",
    "account = pandl_for_instrument_forecast(forecast = ewmac, price = price)\n",
    "account.percent.stats()"
   ]
  },
  {
   "cell_type": "code",
   "execution_count": 10,
   "id": "708c4bfa",
   "metadata": {},
   "outputs": [
    {
     "data": {
      "image/png": "[encoded data removed]",
      "text/plain": [
       "<Figure size 432x288 with 1 Axes>"
      ]
     },
     "metadata": {
      "needs_background": "light"
     },
     "output_type": "display_data"
    }
   ],
   "source": [
    "account.curve().plot()\n",
    "plt.show()"
   ]
  },
  {
   "cell_type": "code",
   "execution_count": 11,
   "id": "10a52d1a",
   "metadata": {},
   "outputs": [],
   "source": [
    "conn.close_connection()"
   ]
  },
  {
   "cell_type": "code",
   "execution_count": null,
   "id": "4141336d",
   "metadata": {},
   "outputs": [],
   "source": []
  }
 ],
 "metadata": {
  "kernelspec": {
   "display_name": "Python 3.8.11 ('pysystemtrade')",
   "language": "python",
   "name": "python3"
  },
  "language_info": {
   "codemirror_mode": {
    "name": "ipython",
    "version": 3
   },
   "file_extension": ".py",
   "mimetype": "text/x-python",
   "name": "python",
   "nbconvert_exporter": "python",
   "pygments_lexer": "ipython3",
   "version": "3.8.11"
  },
  "vscode": {
   "interpreter": {
    "hash": "75c03a406a6f65c96c373596f0625eb8be2da6dd04ef9592ed23fe1e1378aaf6"
   }
  }
 },
 "nbformat": 4,
 "nbformat_minor": 5
}
