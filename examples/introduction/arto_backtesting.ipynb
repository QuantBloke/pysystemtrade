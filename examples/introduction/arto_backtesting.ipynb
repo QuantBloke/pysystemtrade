{
 "cells": [
  {
   "cell_type": "code",
   "execution_count": 1,
   "metadata": {},
   "outputs": [
    {
     "name": "stdout",
     "output_type": "stream",
     "text": [
      "2022-09-05 16:29:09 {'type': 'csvFuturesSimData'} [Warning] No datapaths provided for .csv, will use defaults  (may break in production, should be fine in sim)\n",
      "2022-09-05 16:29:09 {'type': 'csvFuturesSimData'} [Warning] No datapaths provided for .csv, will use defaults  (may break in production, should be fine in sim)\n",
      "2022-09-05 16:29:09 {'type': 'csvFuturesSimData'} [Warning] No datapaths provided for .csv, will use defaults  (may break in production, should be fine in sim)\n",
      "2022-09-05 16:29:09 {'type': 'csvFuturesSimData'} [Warning] No datapaths provided for .csv, will use defaults  (may break in production, should be fine in sim)\n",
      "2022-09-05 16:29:09 {'type': 'csvFuturesSimData'} [Warning] No datapaths provided for .csv, will use defaults  (may break in production, should be fine in sim)\n",
      "Private configuration private.private_config.yaml does not exist; no problem if running in sim mode\n",
      "2022-09-05 16:29:09 {'type': 'base_system'}  Following instruments are 'duplicate_markets' ['Another_thing', 'bad_thing'] \n",
      "2022-09-05 16:29:09 {'type': 'base_system'}  Following instruments are marked as 'ignore_instruments': not included: ['EXAMPLE']\n",
      "2022-09-05 16:29:09 {'type': 'base_system'}  Following instruments removed entirely from sim: ['Another_thing', 'EXAMPLE', 'bad_thing']\n",
      "2022-09-05 16:29:09 {'type': 'base_system', 'stage': 'portfolio', 'instrument_code': 'EDOLLAR'}  Calculating notional position for EDOLLAR\n",
      "2022-09-05 16:29:09 {'type': 'base_system', 'stage': 'portfolio'}  Calculating instrument weights\n",
      "2022-09-05 16:29:09 {'type': 'base_system', 'stage': 'portfolio'}  Calculating raw instrument weights\n",
      "2022-09-05 16:29:09 {'type': 'base_system'}  Following instruments are 'duplicate_markets' ['Another_thing', 'bad_thing'] \n",
      "2022-09-05 16:29:09 {'type': 'base_system'}  Following instruments are marked as 'ignore_instruments': not included: ['EXAMPLE']\n",
      "2022-09-05 16:29:09 {'type': 'base_system'}  Following instruments are marked as 'bad_markets':  ['BAD_EXAMPLE']\n",
      "2022-09-05 16:29:09 {'type': 'base_system'}  Following instruments have restricted trading:  ['RESTRICTED_EXAMPLE'] \n",
      "2022-09-05 16:29:09 {'type': 'base_system'}  Following instruments marked as not trading []\n",
      "2022-09-05 16:29:09 {'type': 'base_system', 'stage': 'positionSize', 'instrument_code': 'CORN'}  Calculating subsystem position for CORN\n",
      "2022-09-05 16:29:09 {'type': 'base_system', 'stage': 'positionSize', 'instrument_code': 'CORN'}  Calculating volatility scalar for CORN\n",
      "2022-09-05 16:29:09 {'type': 'base_system', 'stage': 'positionSize', 'instrument_code': 'CORN'}  Calculating instrument value vol for CORN\n",
      "2022-09-05 16:29:09 {'type': 'base_system', 'stage': 'positionSize', 'instrument_code': 'CORN'}  Calculating instrument currency vol for CORN\n",
      "2022-09-05 16:29:09 {'type': 'base_system', 'stage': 'rawdata', 'instrument_code': 'CORN'}  Calculating daily volatility for CORN\n",
      "2022-09-05 16:29:09 {'type': 'base_system', 'stage': 'rawdata', 'instrument_code': 'CORN'}  Calculating daily prices for CORN\n",
      "2022-09-05 16:29:09 {'type': 'base_system', 'stage': 'combForecast', 'instrument_code': 'CORN'}  Calculating combined forecast for CORN\n",
      "2022-09-05 16:29:09 {'type': 'base_system', 'stage': 'forecastScaleCap', 'instrument_code': 'CORN', 'rule_variation_name': 'carry'}  Calculating capped forecast for CORN carry\n",
      "2022-09-05 16:29:09 {'type': 'base_system', 'stage': 'rules', 'instrument_code': 'CORN', 'rule_variation_name': 'carry'}  Calculating raw forecast CORN for carry\n",
      "2022-09-05 16:29:10 {'type': 'base_system', 'stage': 'forecastScaleCap', 'instrument_code': 'CORN', 'rule_variation_name': 'ewmac16_64'}  Calculating capped forecast for CORN ewmac16_64\n",
      "2022-09-05 16:29:10 {'type': 'base_system', 'stage': 'rules', 'instrument_code': 'CORN', 'rule_variation_name': 'ewmac16_64'}  Calculating raw forecast CORN for ewmac16_64\n",
      "2022-09-05 16:29:10 {'type': 'base_system', 'stage': 'rawdata', 'instrument_code': 'CORN'}  Calculating daily prices for CORN\n",
      "2022-09-05 16:29:10 {'type': 'base_system', 'stage': 'forecastScaleCap', 'instrument_code': 'CORN', 'rule_variation_name': 'ewmac32_128'}  Calculating capped forecast for CORN ewmac32_128\n",
      "2022-09-05 16:29:10 {'type': 'base_system', 'stage': 'rules', 'instrument_code': 'CORN', 'rule_variation_name': 'ewmac32_128'}  Calculating raw forecast CORN for ewmac32_128\n",
      "2022-09-05 16:29:10 {'type': 'base_system', 'stage': 'rawdata', 'instrument_code': 'CORN'}  Calculating daily prices for CORN\n",
      "2022-09-05 16:29:10 {'type': 'base_system', 'stage': 'forecastScaleCap', 'instrument_code': 'CORN', 'rule_variation_name': 'ewmac64_256'}  Calculating capped forecast for CORN ewmac64_256\n",
      "2022-09-05 16:29:10 {'type': 'base_system', 'stage': 'rules', 'instrument_code': 'CORN', 'rule_variation_name': 'ewmac64_256'}  Calculating raw forecast CORN for ewmac64_256\n",
      "2022-09-05 16:29:10 {'type': 'base_system', 'stage': 'rawdata', 'instrument_code': 'CORN'}  Calculating daily prices for CORN\n",
      "2022-09-05 16:29:10 {'type': 'base_system', 'stage': 'combForecast', 'instrument_code': 'CORN'}  Calculating forecast weights for CORN\n",
      "2022-09-05 16:29:10 {'type': 'base_system', 'stage': 'combForecast'}  Non-nested dict of forecast weights for CORN {'ewmac16_64': 0.21, 'ewmac32_128': 0.08, 'ewmac64_256': 0.21, 'carry': 0.5}: weights the same for all instruments\n",
      "2022-09-05 16:29:10 {'type': 'base_system', 'stage': 'forecastScaleCap', 'instrument_code': 'EDOLLAR', 'rule_variation_name': 'carry'}  Calculating capped forecast for EDOLLAR carry\n",
      "2022-09-05 16:29:10 {'type': 'base_system', 'stage': 'rules', 'instrument_code': 'EDOLLAR', 'rule_variation_name': 'carry'}  Calculating raw forecast EDOLLAR for carry\n",
      "2022-09-05 16:29:11 {'type': 'base_system', 'stage': 'rawdata', 'instrument_code': 'EDOLLAR'}  Calculating daily volatility for EDOLLAR\n",
      "2022-09-05 16:29:11 {'type': 'base_system', 'stage': 'rawdata', 'instrument_code': 'EDOLLAR'}  Calculating daily prices for EDOLLAR\n",
      "2022-09-05 16:29:11 {'type': 'base_system', 'stage': 'forecastScaleCap', 'instrument_code': 'EUROSTX', 'rule_variation_name': 'carry'}  Calculating capped forecast for EUROSTX carry\n",
      "2022-09-05 16:29:11 {'type': 'base_system', 'stage': 'rules', 'instrument_code': 'EUROSTX', 'rule_variation_name': 'carry'}  Calculating raw forecast EUROSTX for carry\n",
      "2022-09-05 16:29:11 {'type': 'base_system', 'stage': 'rawdata', 'instrument_code': 'EUROSTX'}  Calculating daily volatility for EUROSTX\n",
      "2022-09-05 16:29:11 {'type': 'base_system', 'stage': 'rawdata', 'instrument_code': 'EUROSTX'}  Calculating daily prices for EUROSTX\n",
      "2022-09-05 16:29:11 {'type': 'base_system', 'stage': 'forecastScaleCap', 'instrument_code': 'MXP', 'rule_variation_name': 'carry'}  Calculating capped forecast for MXP carry\n",
      "2022-09-05 16:29:11 {'type': 'base_system', 'stage': 'rules', 'instrument_code': 'MXP', 'rule_variation_name': 'carry'}  Calculating raw forecast MXP for carry\n",
      "2022-09-05 16:29:12 {'type': 'base_system', 'stage': 'rawdata', 'instrument_code': 'MXP'}  Calculating daily volatility for MXP\n",
      "2022-09-05 16:29:12 {'type': 'base_system', 'stage': 'rawdata', 'instrument_code': 'MXP'}  Calculating daily prices for MXP\n",
      "2022-09-05 16:29:12 {'type': 'base_system', 'stage': 'forecastScaleCap', 'instrument_code': 'US10', 'rule_variation_name': 'carry'}  Calculating capped forecast for US10 carry\n",
      "2022-09-05 16:29:12 {'type': 'base_system', 'stage': 'rules', 'instrument_code': 'US10', 'rule_variation_name': 'carry'}  Calculating raw forecast US10 for carry\n",
      "2022-09-05 16:29:12 {'type': 'base_system', 'stage': 'rawdata', 'instrument_code': 'US10'}  Calculating daily volatility for US10\n",
      "2022-09-05 16:29:12 {'type': 'base_system', 'stage': 'rawdata', 'instrument_code': 'US10'}  Calculating daily prices for US10\n",
      "2022-09-05 16:29:13 {'type': 'base_system', 'stage': 'forecastScaleCap', 'instrument_code': 'V2X', 'rule_variation_name': 'carry'}  Calculating capped forecast for V2X carry\n",
      "2022-09-05 16:29:13 {'type': 'base_system', 'stage': 'rules', 'instrument_code': 'V2X', 'rule_variation_name': 'carry'}  Calculating raw forecast V2X for carry\n",
      "2022-09-05 16:29:13 {'type': 'base_system', 'stage': 'rawdata', 'instrument_code': 'V2X'}  Calculating daily volatility for V2X\n",
      "2022-09-05 16:29:13 {'type': 'base_system', 'stage': 'rawdata', 'instrument_code': 'V2X'}  Calculating daily prices for V2X\n"
     ]
    },
    {
     "name": "stdout",
     "output_type": "stream",
     "text": [
      "2022-09-05 16:29:14 {'type': 'base_system', 'stage': 'forecastScaleCap', 'instrument_code': 'EDOLLAR', 'rule_variation_name': 'ewmac16_64'}  Calculating capped forecast for EDOLLAR ewmac16_64\n",
      "2022-09-05 16:29:14 {'type': 'base_system', 'stage': 'rules', 'instrument_code': 'EDOLLAR', 'rule_variation_name': 'ewmac16_64'}  Calculating raw forecast EDOLLAR for ewmac16_64\n",
      "2022-09-05 16:29:14 {'type': 'base_system', 'stage': 'rawdata', 'instrument_code': 'EDOLLAR'}  Calculating daily prices for EDOLLAR\n",
      "2022-09-05 16:29:14 {'type': 'base_system', 'stage': 'forecastScaleCap', 'instrument_code': 'EUROSTX', 'rule_variation_name': 'ewmac16_64'}  Calculating capped forecast for EUROSTX ewmac16_64\n",
      "2022-09-05 16:29:14 {'type': 'base_system', 'stage': 'rules', 'instrument_code': 'EUROSTX', 'rule_variation_name': 'ewmac16_64'}  Calculating raw forecast EUROSTX for ewmac16_64\n",
      "2022-09-05 16:29:14 {'type': 'base_system', 'stage': 'rawdata', 'instrument_code': 'EUROSTX'}  Calculating daily prices for EUROSTX\n",
      "2022-09-05 16:29:14 {'type': 'base_system', 'stage': 'forecastScaleCap', 'instrument_code': 'MXP', 'rule_variation_name': 'ewmac16_64'}  Calculating capped forecast for MXP ewmac16_64\n",
      "2022-09-05 16:29:14 {'type': 'base_system', 'stage': 'rules', 'instrument_code': 'MXP', 'rule_variation_name': 'ewmac16_64'}  Calculating raw forecast MXP for ewmac16_64\n",
      "2022-09-05 16:29:14 {'type': 'base_system', 'stage': 'rawdata', 'instrument_code': 'MXP'}  Calculating daily prices for MXP\n",
      "2022-09-05 16:29:14 {'type': 'base_system', 'stage': 'forecastScaleCap', 'instrument_code': 'US10', 'rule_variation_name': 'ewmac16_64'}  Calculating capped forecast for US10 ewmac16_64\n",
      "2022-09-05 16:29:14 {'type': 'base_system', 'stage': 'rules', 'instrument_code': 'US10', 'rule_variation_name': 'ewmac16_64'}  Calculating raw forecast US10 for ewmac16_64\n",
      "2022-09-05 16:29:14 {'type': 'base_system', 'stage': 'rawdata', 'instrument_code': 'US10'}  Calculating daily prices for US10\n",
      "2022-09-05 16:29:14 {'type': 'base_system', 'stage': 'forecastScaleCap', 'instrument_code': 'V2X', 'rule_variation_name': 'ewmac16_64'}  Calculating capped forecast for V2X ewmac16_64\n",
      "2022-09-05 16:29:14 {'type': 'base_system', 'stage': 'rules', 'instrument_code': 'V2X', 'rule_variation_name': 'ewmac16_64'}  Calculating raw forecast V2X for ewmac16_64\n",
      "2022-09-05 16:29:14 {'type': 'base_system', 'stage': 'rawdata', 'instrument_code': 'V2X'}  Calculating daily prices for V2X\n",
      "2022-09-05 16:29:15 {'type': 'base_system', 'stage': 'forecastScaleCap', 'instrument_code': 'EDOLLAR', 'rule_variation_name': 'ewmac32_128'}  Calculating capped forecast for EDOLLAR ewmac32_128\n",
      "2022-09-05 16:29:15 {'type': 'base_system', 'stage': 'rules', 'instrument_code': 'EDOLLAR', 'rule_variation_name': 'ewmac32_128'}  Calculating raw forecast EDOLLAR for ewmac32_128\n",
      "2022-09-05 16:29:15 {'type': 'base_system', 'stage': 'rawdata', 'instrument_code': 'EDOLLAR'}  Calculating daily prices for EDOLLAR\n",
      "2022-09-05 16:29:15 {'type': 'base_system', 'stage': 'forecastScaleCap', 'instrument_code': 'EUROSTX', 'rule_variation_name': 'ewmac32_128'}  Calculating capped forecast for EUROSTX ewmac32_128\n",
      "2022-09-05 16:29:15 {'type': 'base_system', 'stage': 'rules', 'instrument_code': 'EUROSTX', 'rule_variation_name': 'ewmac32_128'}  Calculating raw forecast EUROSTX for ewmac32_128\n",
      "2022-09-05 16:29:15 {'type': 'base_system', 'stage': 'rawdata', 'instrument_code': 'EUROSTX'}  Calculating daily prices for EUROSTX\n",
      "2022-09-05 16:29:15 {'type': 'base_system', 'stage': 'forecastScaleCap', 'instrument_code': 'MXP', 'rule_variation_name': 'ewmac32_128'}  Calculating capped forecast for MXP ewmac32_128\n",
      "2022-09-05 16:29:15 {'type': 'base_system', 'stage': 'rules', 'instrument_code': 'MXP', 'rule_variation_name': 'ewmac32_128'}  Calculating raw forecast MXP for ewmac32_128\n",
      "2022-09-05 16:29:15 {'type': 'base_system', 'stage': 'rawdata', 'instrument_code': 'MXP'}  Calculating daily prices for MXP\n",
      "2022-09-05 16:29:15 {'type': 'base_system', 'stage': 'forecastScaleCap', 'instrument_code': 'US10', 'rule_variation_name': 'ewmac32_128'}  Calculating capped forecast for US10 ewmac32_128\n",
      "2022-09-05 16:29:15 {'type': 'base_system', 'stage': 'rules', 'instrument_code': 'US10', 'rule_variation_name': 'ewmac32_128'}  Calculating raw forecast US10 for ewmac32_128\n",
      "2022-09-05 16:29:15 {'type': 'base_system', 'stage': 'rawdata', 'instrument_code': 'US10'}  Calculating daily prices for US10\n",
      "2022-09-05 16:29:16 {'type': 'base_system', 'stage': 'forecastScaleCap', 'instrument_code': 'V2X', 'rule_variation_name': 'ewmac32_128'}  Calculating capped forecast for V2X ewmac32_128\n",
      "2022-09-05 16:29:16 {'type': 'base_system', 'stage': 'rules', 'instrument_code': 'V2X', 'rule_variation_name': 'ewmac32_128'}  Calculating raw forecast V2X for ewmac32_128\n",
      "2022-09-05 16:29:16 {'type': 'base_system', 'stage': 'rawdata', 'instrument_code': 'V2X'}  Calculating daily prices for V2X\n",
      "2022-09-05 16:29:16 {'type': 'base_system', 'stage': 'forecastScaleCap', 'instrument_code': 'EDOLLAR', 'rule_variation_name': 'ewmac64_256'}  Calculating capped forecast for EDOLLAR ewmac64_256\n",
      "2022-09-05 16:29:16 {'type': 'base_system', 'stage': 'rules', 'instrument_code': 'EDOLLAR', 'rule_variation_name': 'ewmac64_256'}  Calculating raw forecast EDOLLAR for ewmac64_256\n",
      "2022-09-05 16:29:16 {'type': 'base_system', 'stage': 'rawdata', 'instrument_code': 'EDOLLAR'}  Calculating daily prices for EDOLLAR\n",
      "2022-09-05 16:29:16 {'type': 'base_system', 'stage': 'forecastScaleCap', 'instrument_code': 'EUROSTX', 'rule_variation_name': 'ewmac64_256'}  Calculating capped forecast for EUROSTX ewmac64_256\n",
      "2022-09-05 16:29:16 {'type': 'base_system', 'stage': 'rules', 'instrument_code': 'EUROSTX', 'rule_variation_name': 'ewmac64_256'}  Calculating raw forecast EUROSTX for ewmac64_256\n",
      "2022-09-05 16:29:16 {'type': 'base_system', 'stage': 'rawdata', 'instrument_code': 'EUROSTX'}  Calculating daily prices for EUROSTX\n",
      "2022-09-05 16:29:16 {'type': 'base_system', 'stage': 'forecastScaleCap', 'instrument_code': 'MXP', 'rule_variation_name': 'ewmac64_256'}  Calculating capped forecast for MXP ewmac64_256\n",
      "2022-09-05 16:29:16 {'type': 'base_system', 'stage': 'rules', 'instrument_code': 'MXP', 'rule_variation_name': 'ewmac64_256'}  Calculating raw forecast MXP for ewmac64_256\n",
      "2022-09-05 16:29:16 {'type': 'base_system', 'stage': 'rawdata', 'instrument_code': 'MXP'}  Calculating daily prices for MXP\n",
      "2022-09-05 16:29:16 {'type': 'base_system', 'stage': 'forecastScaleCap', 'instrument_code': 'US10', 'rule_variation_name': 'ewmac64_256'}  Calculating capped forecast for US10 ewmac64_256\n",
      "2022-09-05 16:29:16 {'type': 'base_system', 'stage': 'rules', 'instrument_code': 'US10', 'rule_variation_name': 'ewmac64_256'}  Calculating raw forecast US10 for ewmac64_256\n",
      "2022-09-05 16:29:16 {'type': 'base_system', 'stage': 'rawdata', 'instrument_code': 'US10'}  Calculating daily prices for US10\n",
      "2022-09-05 16:29:17 {'type': 'base_system', 'stage': 'forecastScaleCap', 'instrument_code': 'V2X', 'rule_variation_name': 'ewmac64_256'}  Calculating capped forecast for V2X ewmac64_256\n",
      "2022-09-05 16:29:17 {'type': 'base_system', 'stage': 'rules', 'instrument_code': 'V2X', 'rule_variation_name': 'ewmac64_256'}  Calculating raw forecast V2X for ewmac64_256\n",
      "2022-09-05 16:29:17 {'type': 'base_system', 'stage': 'rawdata', 'instrument_code': 'V2X'}  Calculating daily prices for V2X\n",
      "2022-09-05 16:29:17 {'type': 'base_system', 'stage': 'combForecast', 'instrument_code': 'CORN'}  Only this set of rules ['carry', 'ewmac16_64', 'ewmac32_128', 'ewmac64_256'] is cheap enough to trade for CORN\n",
      "2022-09-05 16:29:17 {'type': 'base_system', 'stage': 'combForecast', 'instrument_code': 'CORN'}  Using fixed FDM multiplier of 1.310 for CORN\n",
      "2022-09-05 16:29:17 {'type': 'base_system', 'stage': 'combForecast', 'instrument_code': 'CORN'}  No mapping applied for CORN\n",
      "2022-09-05 16:29:17 {'type': 'base_system', 'stage': 'positionSize', 'instrument_code': 'EDOLLAR'}  Calculating subsystem position for EDOLLAR\n",
      "2022-09-05 16:29:17 {'type': 'base_system', 'stage': 'positionSize', 'instrument_code': 'EDOLLAR'}  Calculating volatility scalar for EDOLLAR\n",
      "2022-09-05 16:29:17 {'type': 'base_system', 'stage': 'positionSize', 'instrument_code': 'EDOLLAR'}  Calculating instrument value vol for EDOLLAR\n",
      "2022-09-05 16:29:17 {'type': 'base_system', 'stage': 'positionSize', 'instrument_code': 'EDOLLAR'}  Calculating instrument currency vol for EDOLLAR\n",
      "2022-09-05 16:29:17 {'type': 'base_system', 'stage': 'combForecast', 'instrument_code': 'EDOLLAR'}  Calculating combined forecast for EDOLLAR\n",
      "2022-09-05 16:29:17 {'type': 'base_system', 'stage': 'combForecast', 'instrument_code': 'EDOLLAR'}  Calculating forecast weights for EDOLLAR\n",
      "2022-09-05 16:29:17 {'type': 'base_system', 'stage': 'combForecast'}  Non-nested dict of forecast weights for EDOLLAR {'ewmac16_64': 0.21, 'ewmac32_128': 0.08, 'ewmac64_256': 0.21, 'carry': 0.5}: weights the same for all instruments\n"
     ]
    },
    {
     "name": "stdout",
     "output_type": "stream",
     "text": [
      "2022-09-05 16:29:18 {'type': 'base_system', 'stage': 'combForecast', 'instrument_code': 'EDOLLAR'}  Only this set of rules ['carry', 'ewmac16_64', 'ewmac32_128', 'ewmac64_256'] is cheap enough to trade for EDOLLAR\n",
      "2022-09-05 16:29:18 {'type': 'base_system', 'stage': 'combForecast', 'instrument_code': 'EDOLLAR'}  Using fixed FDM multiplier of 1.310 for EDOLLAR\n",
      "2022-09-05 16:29:18 {'type': 'base_system', 'stage': 'combForecast', 'instrument_code': 'EDOLLAR'}  No mapping applied for EDOLLAR\n",
      "2022-09-05 16:29:18 {'type': 'base_system', 'stage': 'positionSize', 'instrument_code': 'EUROSTX'}  Calculating subsystem position for EUROSTX\n",
      "2022-09-05 16:29:18 {'type': 'base_system', 'stage': 'positionSize', 'instrument_code': 'EUROSTX'}  Calculating volatility scalar for EUROSTX\n",
      "2022-09-05 16:29:18 {'type': 'base_system', 'stage': 'positionSize', 'instrument_code': 'EUROSTX'}  Calculating instrument value vol for EUROSTX\n",
      "2022-09-05 16:29:18 {'type': 'base_system', 'stage': 'positionSize', 'instrument_code': 'EUROSTX'}  Calculating instrument currency vol for EUROSTX\n",
      "2022-09-05 16:29:18 {'type': 'base_system', 'stage': 'combForecast', 'instrument_code': 'EUROSTX'}  Calculating combined forecast for EUROSTX\n",
      "2022-09-05 16:29:18 {'type': 'base_system', 'stage': 'combForecast', 'instrument_code': 'EUROSTX'}  Calculating forecast weights for EUROSTX\n",
      "2022-09-05 16:29:18 {'type': 'base_system', 'stage': 'combForecast'}  Non-nested dict of forecast weights for EUROSTX {'ewmac16_64': 0.21, 'ewmac32_128': 0.08, 'ewmac64_256': 0.21, 'carry': 0.5}: weights the same for all instruments\n",
      "2022-09-05 16:29:18 {'type': 'base_system', 'stage': 'combForecast', 'instrument_code': 'EUROSTX'}  Only this set of rules ['carry', 'ewmac16_64', 'ewmac32_128', 'ewmac64_256'] is cheap enough to trade for EUROSTX\n",
      "2022-09-05 16:29:18 {'type': 'base_system', 'stage': 'combForecast', 'instrument_code': 'EUROSTX'}  Using fixed FDM multiplier of 1.310 for EUROSTX\n",
      "2022-09-05 16:29:18 {'type': 'base_system', 'stage': 'combForecast', 'instrument_code': 'EUROSTX'}  No mapping applied for EUROSTX\n",
      "2022-09-05 16:29:18 {'type': 'base_system', 'stage': 'positionSize', 'instrument_code': 'MXP'}  Calculating subsystem position for MXP\n",
      "2022-09-05 16:29:18 {'type': 'base_system', 'stage': 'positionSize', 'instrument_code': 'MXP'}  Calculating volatility scalar for MXP\n",
      "2022-09-05 16:29:18 {'type': 'base_system', 'stage': 'positionSize', 'instrument_code': 'MXP'}  Calculating instrument value vol for MXP\n",
      "2022-09-05 16:29:18 {'type': 'base_system', 'stage': 'positionSize', 'instrument_code': 'MXP'}  Calculating instrument currency vol for MXP\n",
      "2022-09-05 16:29:18 {'type': 'base_system', 'stage': 'combForecast', 'instrument_code': 'MXP'}  Calculating combined forecast for MXP\n",
      "2022-09-05 16:29:18 {'type': 'base_system', 'stage': 'combForecast', 'instrument_code': 'MXP'}  Calculating forecast weights for MXP\n",
      "2022-09-05 16:29:18 {'type': 'base_system', 'stage': 'combForecast'}  Non-nested dict of forecast weights for MXP {'ewmac16_64': 0.21, 'ewmac32_128': 0.08, 'ewmac64_256': 0.21, 'carry': 0.5}: weights the same for all instruments\n",
      "2022-09-05 16:29:19 {'type': 'base_system', 'stage': 'combForecast', 'instrument_code': 'MXP'}  Only this set of rules ['carry', 'ewmac16_64', 'ewmac32_128', 'ewmac64_256'] is cheap enough to trade for MXP\n",
      "2022-09-05 16:29:19 {'type': 'base_system', 'stage': 'combForecast', 'instrument_code': 'MXP'}  Using fixed FDM multiplier of 1.310 for MXP\n",
      "2022-09-05 16:29:19 {'type': 'base_system', 'stage': 'combForecast', 'instrument_code': 'MXP'}  No mapping applied for MXP\n",
      "2022-09-05 16:29:19 {'type': 'base_system', 'stage': 'positionSize', 'instrument_code': 'US10'}  Calculating subsystem position for US10\n",
      "2022-09-05 16:29:19 {'type': 'base_system', 'stage': 'positionSize', 'instrument_code': 'US10'}  Calculating volatility scalar for US10\n",
      "2022-09-05 16:29:19 {'type': 'base_system', 'stage': 'positionSize', 'instrument_code': 'US10'}  Calculating instrument value vol for US10\n",
      "2022-09-05 16:29:19 {'type': 'base_system', 'stage': 'positionSize', 'instrument_code': 'US10'}  Calculating instrument currency vol for US10\n",
      "2022-09-05 16:29:19 {'type': 'base_system', 'stage': 'combForecast', 'instrument_code': 'US10'}  Calculating combined forecast for US10\n",
      "2022-09-05 16:29:19 {'type': 'base_system', 'stage': 'combForecast', 'instrument_code': 'US10'}  Calculating forecast weights for US10\n",
      "2022-09-05 16:29:19 {'type': 'base_system', 'stage': 'combForecast'}  Non-nested dict of forecast weights for US10 {'ewmac16_64': 0.21, 'ewmac32_128': 0.08, 'ewmac64_256': 0.21, 'carry': 0.5}: weights the same for all instruments\n",
      "2022-09-05 16:29:19 {'type': 'base_system', 'stage': 'combForecast', 'instrument_code': 'US10'}  Only this set of rules ['carry', 'ewmac16_64', 'ewmac32_128', 'ewmac64_256'] is cheap enough to trade for US10\n",
      "2022-09-05 16:29:20 {'type': 'base_system', 'stage': 'combForecast', 'instrument_code': 'US10'}  Using fixed FDM multiplier of 1.310 for US10\n",
      "2022-09-05 16:29:20 {'type': 'base_system', 'stage': 'combForecast', 'instrument_code': 'US10'}  No mapping applied for US10\n",
      "2022-09-05 16:29:20 {'type': 'base_system', 'stage': 'positionSize', 'instrument_code': 'V2X'}  Calculating subsystem position for V2X\n",
      "2022-09-05 16:29:20 {'type': 'base_system', 'stage': 'positionSize', 'instrument_code': 'V2X'}  Calculating volatility scalar for V2X\n",
      "2022-09-05 16:29:20 {'type': 'base_system', 'stage': 'positionSize', 'instrument_code': 'V2X'}  Calculating instrument value vol for V2X\n",
      "2022-09-05 16:29:20 {'type': 'base_system', 'stage': 'positionSize', 'instrument_code': 'V2X'}  Calculating instrument currency vol for V2X\n",
      "2022-09-05 16:29:20 {'type': 'base_system', 'stage': 'combForecast', 'instrument_code': 'V2X'}  Calculating combined forecast for V2X\n",
      "2022-09-05 16:29:20 {'type': 'base_system', 'stage': 'combForecast', 'instrument_code': 'V2X'}  Calculating forecast weights for V2X\n",
      "2022-09-05 16:29:20 {'type': 'base_system', 'stage': 'combForecast'}  Non-nested dict of forecast weights for V2X {'ewmac16_64': 0.21, 'ewmac32_128': 0.08, 'ewmac64_256': 0.21, 'carry': 0.5}: weights the same for all instruments\n",
      "2022-09-05 16:29:20 {'type': 'base_system', 'stage': 'combForecast', 'instrument_code': 'V2X'}  Only this set of rules ['carry', 'ewmac16_64', 'ewmac32_128', 'ewmac64_256'] is cheap enough to trade for V2X\n",
      "2022-09-05 16:29:20 {'type': 'base_system', 'stage': 'combForecast', 'instrument_code': 'V2X'}  Using fixed FDM multiplier of 1.310 for V2X\n",
      "2022-09-05 16:29:20 {'type': 'base_system', 'stage': 'combForecast', 'instrument_code': 'V2X'}  No mapping applied for V2X\n",
      "2022-09-05 16:29:20 {'type': 'base_system', 'stage': 'portfolio'}  Using fixed diversification multiplier 1.890000\n",
      "2022-09-05 16:29:20 {'type': 'base_system', 'stage': 'portfolio'}  No risk overlay in config: won't apply risk scaling\n"
     ]
    },
    {
     "data": {
      "text/plain": [
       "index\n",
       "1984-03-23         NaN\n",
       "1984-03-26         NaN\n",
       "1984-03-27         NaN\n",
       "1984-03-28         NaN\n",
       "1984-03-29         NaN\n",
       "                ...   \n",
       "2022-05-25   -2.672882\n",
       "2022-05-26   -2.679398\n",
       "2022-05-27   -2.702551\n",
       "2022-05-30   -2.702310\n",
       "2022-05-31   -2.645220\n",
       "Freq: B, Length: 9963, dtype: float64"
      ]
     },
     "execution_count": 1,
     "metadata": {},
     "output_type": "execute_result"
    }
   ],
   "source": [
    "from systems.provided.futures_chapter15.basesystem import futures_system\n",
    "system=futures_system()\n",
    "system.portfolio.get_notional_position(\"EDOLLAR\")"
   ]
  },
  {
   "cell_type": "code",
   "execution_count": 2,
   "metadata": {},
   "outputs": [
    {
     "data": {
      "text/plain": [
       "'/home/arto/pysystemtrade/examples/introduction'"
      ]
     },
     "execution_count": 2,
     "metadata": {},
     "output_type": "execute_result"
    }
   ],
   "source": [
    "pwd"
   ]
  },
  {
   "cell_type": "code",
   "execution_count": 3,
   "metadata": {},
   "outputs": [
    {
     "name": "stdout",
     "output_type": "stream",
     "text": [
      "/home/arto/pysystemtrade\n"
     ]
    }
   ],
   "source": [
    "cd ../../"
   ]
  },
  {
   "cell_type": "code",
   "execution_count": 4,
   "metadata": {},
   "outputs": [
    {
     "ename": "ModuleNotFoundError",
     "evalue": "No module named 'private.private_ch15_basesystem'",
     "output_type": "error",
     "traceback": [
      "\u001b[0;31m---------------------------------------------------------------------------\u001b[0m",
      "\u001b[0;31mModuleNotFoundError\u001b[0m                       Traceback (most recent call last)",
      "\u001b[0;32m/tmp/ipykernel_13570/3663592718.py\u001b[0m in \u001b[0;36m<module>\u001b[0;34m\u001b[0m\n\u001b[0;32m----> 1\u001b[0;31m \u001b[0;32mfrom\u001b[0m \u001b[0mprivate\u001b[0m\u001b[0;34m.\u001b[0m\u001b[0mprivate_ch15_basesystem\u001b[0m \u001b[0;32mimport\u001b[0m \u001b[0mfutures_system\u001b[0m\u001b[0;34m\u001b[0m\u001b[0;34m\u001b[0m\u001b[0m\n\u001b[0m",
      "\u001b[0;31mModuleNotFoundError\u001b[0m: No module named 'private.private_ch15_basesystem'"
     ]
    }
   ],
   "source": [
    "from private.private_ch15_basesystem import futures_system"
   ]
  },
  {
   "cell_type": "code",
   "execution_count": 5,
   "metadata": {},
   "outputs": [
    {
     "ename": "ModuleNotFoundError",
     "evalue": "No module named 'private.private_ch15_basesystem'",
     "output_type": "error",
     "traceback": [
      "\u001b[0;31m---------------------------------------------------------------------------\u001b[0m",
      "\u001b[0;31mModuleNotFoundError\u001b[0m                       Traceback (most recent call last)",
      "\u001b[0;32m/tmp/ipykernel_13570/3663592718.py\u001b[0m in \u001b[0;36m<module>\u001b[0;34m\u001b[0m\n\u001b[0;32m----> 1\u001b[0;31m \u001b[0;32mfrom\u001b[0m \u001b[0mprivate\u001b[0m\u001b[0;34m.\u001b[0m\u001b[0mprivate_ch15_basesystem\u001b[0m \u001b[0;32mimport\u001b[0m \u001b[0mfutures_system\u001b[0m\u001b[0;34m\u001b[0m\u001b[0;34m\u001b[0m\u001b[0m\n\u001b[0m",
      "\u001b[0;31mModuleNotFoundError\u001b[0m: No module named 'private.private_ch15_basesystem'"
     ]
    }
   ],
   "source": [
    "from private.private_ch15_basesystem import futures_system"
   ]
  },
  {
   "cell_type": "code",
   "execution_count": 10,
   "metadata": {},
   "outputs": [
    {
     "ename": "ModuleNotFoundError",
     "evalue": "No module named 'private.private_ch15_basesystem'",
     "output_type": "error",
     "traceback": [
      "\u001b[0;31m---------------------------------------------------------------------------\u001b[0m",
      "\u001b[0;31mModuleNotFoundError\u001b[0m                       Traceback (most recent call last)",
      "\u001b[0;32m/tmp/ipykernel_69789/3663592718.py\u001b[0m in \u001b[0;36m<module>\u001b[0;34m\u001b[0m\n\u001b[0;32m----> 1\u001b[0;31m \u001b[0;32mfrom\u001b[0m \u001b[0mprivate\u001b[0m\u001b[0;34m.\u001b[0m\u001b[0mprivate_ch15_basesystem\u001b[0m \u001b[0;32mimport\u001b[0m \u001b[0mfutures_system\u001b[0m\u001b[0;34m\u001b[0m\u001b[0;34m\u001b[0m\u001b[0m\n\u001b[0m",
      "\u001b[0;31mModuleNotFoundError\u001b[0m: No module named 'private.private_ch15_basesystem'"
     ]
    }
   ],
   "source": [
    "from private.private_ch15_basesystem import futures_system"
   ]
  },
  {
   "cell_type": "code",
   "execution_count": 7,
   "metadata": {},
   "outputs": [
    {
     "ename": "ModuleNotFoundError",
     "evalue": "No module named 'private.private_ch15_estimatedsystem'",
     "output_type": "error",
     "traceback": [
      "\u001b[0;31m---------------------------------------------------------------------------\u001b[0m",
      "\u001b[0;31mModuleNotFoundError\u001b[0m                       Traceback (most recent call last)",
      "\u001b[0;32m/tmp/ipykernel_69789/3039078478.py\u001b[0m in \u001b[0;36m<module>\u001b[0;34m\u001b[0m\n\u001b[0;32m----> 1\u001b[0;31m \u001b[0;32mfrom\u001b[0m \u001b[0mprivate\u001b[0m\u001b[0;34m.\u001b[0m\u001b[0mprivate_ch15_estimatedsystem\u001b[0m \u001b[0;32mimport\u001b[0m \u001b[0mfutures_system\u001b[0m\u001b[0;34m\u001b[0m\u001b[0;34m\u001b[0m\u001b[0m\n\u001b[0m",
      "\u001b[0;31mModuleNotFoundError\u001b[0m: No module named 'private.private_ch15_estimatedsystem'"
     ]
    }
   ],
   "source": [
    "from private.private_ch15_estimatedsystem import futures_system"
   ]
  },
  {
   "cell_type": "code",
   "execution_count": 8,
   "metadata": {},
   "outputs": [
    {
     "ename": "ModuleNotFoundError",
     "evalue": "No module named 'private.private_ch15_basesystem'",
     "output_type": "error",
     "traceback": [
      "\u001b[0;31m---------------------------------------------------------------------------\u001b[0m",
      "\u001b[0;31mModuleNotFoundError\u001b[0m                       Traceback (most recent call last)",
      "\u001b[0;32m/tmp/ipykernel_69127/2679317341.py\u001b[0m in \u001b[0;36m<module>\u001b[0;34m\u001b[0m\n\u001b[0;32m----> 1\u001b[0;31m \u001b[0;32mfrom\u001b[0m \u001b[0mprivate\u001b[0m\u001b[0;34m.\u001b[0m\u001b[0mprivate_ch15_basesystem\u001b[0m \u001b[0;32mimport\u001b[0m \u001b[0mfutures_system\u001b[0m\u001b[0;34m\u001b[0m\u001b[0;34m\u001b[0m\u001b[0m\n\u001b[0m\u001b[1;32m      2\u001b[0m \u001b[0msystem\u001b[0m \u001b[0;34m=\u001b[0m \u001b[0mfutures_system\u001b[0m\u001b[0;34m(\u001b[0m\u001b[0;34m)\u001b[0m\u001b[0;34m\u001b[0m\u001b[0;34m\u001b[0m\u001b[0m\n\u001b[1;32m      3\u001b[0m \u001b[0mnew_config\u001b[0m \u001b[0;34m=\u001b[0m \u001b[0msystem\u001b[0m\u001b[0;34m.\u001b[0m\u001b[0mconfig\u001b[0m\u001b[0;34m\u001b[0m\u001b[0;34m\u001b[0m\u001b[0m\n",
      "\u001b[0;31mModuleNotFoundError\u001b[0m: No module named 'private.private_ch15_basesystem'"
     ]
    }
   ],
   "source": [
    "from private.private_ch15_basesystem import futures_system\n",
    "system = futures_system()\n",
    "new_config = system.config"
   ]
  },
  {
   "cell_type": "code",
   "execution_count": 2,
   "metadata": {},
   "outputs": [],
   "source": [
    "new_weights=dict(SP500=0.5, KR10=0.5)\n",
    "new_idm=1.2"
   ]
  },
  {
   "cell_type": "code",
   "execution_count": 3,
   "metadata": {},
   "outputs": [
    {
     "ename": "NameError",
     "evalue": "name 'new_config' is not defined",
     "output_type": "error",
     "traceback": [
      "\u001b[0;31m---------------------------------------------------------------------------\u001b[0m",
      "\u001b[0;31mNameError\u001b[0m                                 Traceback (most recent call last)",
      "\u001b[0;32m/tmp/ipykernel_69127/2812533635.py\u001b[0m in \u001b[0;36m<module>\u001b[0;34m\u001b[0m\n\u001b[0;32m----> 1\u001b[0;31m \u001b[0mnew_config\u001b[0m\u001b[0;34m.\u001b[0m\u001b[0minstrument_weights\u001b[0m\u001b[0;34m=\u001b[0m\u001b[0mnew_weights\u001b[0m\u001b[0;34m\u001b[0m\u001b[0;34m\u001b[0m\u001b[0m\n\u001b[0m\u001b[1;32m      2\u001b[0m \u001b[0mnew_config\u001b[0m\u001b[0;34m.\u001b[0m\u001b[0minstrument_div_multiplier\u001b[0m\u001b[0;34m=\u001b[0m\u001b[0mnew_idm\u001b[0m\u001b[0;34m\u001b[0m\u001b[0;34m\u001b[0m\u001b[0m\n",
      "\u001b[0;31mNameError\u001b[0m: name 'new_config' is not defined"
     ]
    }
   ],
   "source": [
    "new_config.instrument_weights=new_weights\n",
    "new_config.instrument_div_multiplier=new_idm"
   ]
  },
  {
   "cell_type": "code",
   "execution_count": 7,
   "metadata": {},
   "outputs": [
    {
     "name": "stdout",
     "output_type": "stream",
     "text": [
      "Variable         Type        Data/Info\n",
      "--------------------------------------\n",
      "futures_system   function    <function futures_system at 0x7fdc9008f4c0>\n",
      "sys              module      <module 'sys' (built-in)>\n",
      "system           System      System base_system with .<...>, forecastScaleCap, rules\n"
     ]
    }
   ],
   "source": [
    "whos\n"
   ]
  },
  {
   "cell_type": "code",
   "execution_count": 1,
   "metadata": {},
   "outputs": [],
   "source": [
    "from systems.basesystem import System"
   ]
  },
  {
   "cell_type": "code",
   "execution_count": 4,
   "metadata": {},
   "outputs": [],
   "source": [
    "from sysdata.sim.csv_futures_sim_data import csvFuturesSimData\n",
    "data=csvFuturesSimData"
   ]
  },
  {
   "cell_type": "code",
   "execution_count": 5,
   "metadata": {},
   "outputs": [],
   "source": [
    "from systems.provided.rules.ewmac import ewmac_forecast_with_defaults as ewmac"
   ]
  },
  {
   "cell_type": "code",
   "execution_count": 6,
   "metadata": {},
   "outputs": [],
   "source": [
    "from systems.forecasting import Rules"
   ]
  },
  {
   "cell_type": "code",
   "execution_count": 12,
   "metadata": {},
   "outputs": [
    {
     "data": {
      "text/plain": [
       "{'rule0': TradingRule; function: <function ewmac_forecast_with_defaults at 0x7f601fe1e9d0>, data: data.daily_prices (args: {}) and other_args: }"
      ]
     },
     "execution_count": 12,
     "metadata": {},
     "output_type": "execute_result"
    }
   ],
   "source": [
    "my_rules = Rules(ewmac)\n",
    "my_rules.trading_rules()"
   ]
  },
  {
   "cell_type": "code",
   "execution_count": 11,
   "metadata": {},
   "outputs": [
    {
     "ename": "TypeError",
     "evalue": "system_init() missing 1 required positional argument: 'base_system'",
     "output_type": "error",
     "traceback": [
      "\u001b[0;31m---------------------------------------------------------------------------\u001b[0m",
      "\u001b[0;31mTypeError\u001b[0m                                 Traceback (most recent call last)",
      "\u001b[0;32m/tmp/ipykernel_1761354/1169901784.py\u001b[0m in \u001b[0;36m<module>\u001b[0;34m\u001b[0m\n\u001b[1;32m      1\u001b[0m \u001b[0;32mfrom\u001b[0m \u001b[0msystems\u001b[0m\u001b[0;34m.\u001b[0m\u001b[0mbasesystem\u001b[0m \u001b[0;32mimport\u001b[0m \u001b[0mSystem\u001b[0m\u001b[0;34m\u001b[0m\u001b[0;34m\u001b[0m\u001b[0m\n\u001b[0;32m----> 2\u001b[0;31m \u001b[0mmy_system\u001b[0m \u001b[0;34m=\u001b[0m \u001b[0mSystem\u001b[0m\u001b[0;34m(\u001b[0m\u001b[0;34m[\u001b[0m\u001b[0mmy_rules\u001b[0m\u001b[0;34m]\u001b[0m\u001b[0;34m,\u001b[0m \u001b[0mdata\u001b[0m\u001b[0;34m)\u001b[0m\u001b[0;34m\u001b[0m\u001b[0;34m\u001b[0m\u001b[0m\n\u001b[0m",
      "\u001b[0;32m~/pysystemtrade/systems/basesystem.py\u001b[0m in \u001b[0;36m__init__\u001b[0;34m(self, stage_list, data, config, log)\u001b[0m\n\u001b[1;32m     73\u001b[0m \u001b[0;34m\u001b[0m\u001b[0m\n\u001b[1;32m     74\u001b[0m         \u001b[0mself\u001b[0m\u001b[0;34m.\u001b[0m\u001b[0mconfig\u001b[0m\u001b[0;34m.\u001b[0m\u001b[0msystem_init\u001b[0m\u001b[0;34m(\u001b[0m\u001b[0mself\u001b[0m\u001b[0;34m)\u001b[0m\u001b[0;34m\u001b[0m\u001b[0;34m\u001b[0m\u001b[0m\n\u001b[0;32m---> 75\u001b[0;31m         \u001b[0mself\u001b[0m\u001b[0;34m.\u001b[0m\u001b[0mdata\u001b[0m\u001b[0;34m.\u001b[0m\u001b[0msystem_init\u001b[0m\u001b[0;34m(\u001b[0m\u001b[0mself\u001b[0m\u001b[0;34m)\u001b[0m\u001b[0;34m\u001b[0m\u001b[0;34m\u001b[0m\u001b[0m\n\u001b[0m\u001b[1;32m     76\u001b[0m         \u001b[0mself\u001b[0m\u001b[0;34m.\u001b[0m\u001b[0m_setup_stages\u001b[0m\u001b[0;34m(\u001b[0m\u001b[0mstage_list\u001b[0m\u001b[0;34m)\u001b[0m\u001b[0;34m\u001b[0m\u001b[0;34m\u001b[0m\u001b[0m\n\u001b[1;32m     77\u001b[0m         \u001b[0mself\u001b[0m\u001b[0;34m.\u001b[0m\u001b[0m_cache\u001b[0m \u001b[0;34m=\u001b[0m \u001b[0msystemCache\u001b[0m\u001b[0;34m(\u001b[0m\u001b[0mself\u001b[0m\u001b[0;34m)\u001b[0m\u001b[0;34m\u001b[0m\u001b[0;34m\u001b[0m\u001b[0m\n",
      "\u001b[0;31mTypeError\u001b[0m: system_init() missing 1 required positional argument: 'base_system'"
     ]
    }
   ],
   "source": [
    "from systems.basesystem import System\n",
    "my_system = System([my_rules], data)"
   ]
  },
  {
   "cell_type": "code",
   "execution_count": 13,
   "metadata": {},
   "outputs": [
    {
     "ename": "TypeError",
     "evalue": "system_init() missing 1 required positional argument: 'base_system'",
     "output_type": "error",
     "traceback": [
      "\u001b[0;31m---------------------------------------------------------------------------\u001b[0m",
      "\u001b[0;31mTypeError\u001b[0m                                 Traceback (most recent call last)",
      "\u001b[0;32m/tmp/ipykernel_1761354/1088935521.py\u001b[0m in \u001b[0;36m<module>\u001b[0;34m\u001b[0m\n\u001b[1;32m      1\u001b[0m \u001b[0;32mfrom\u001b[0m \u001b[0msystems\u001b[0m\u001b[0;34m.\u001b[0m\u001b[0mbasesystem\u001b[0m \u001b[0;32mimport\u001b[0m \u001b[0mSystem\u001b[0m\u001b[0;34m\u001b[0m\u001b[0;34m\u001b[0m\u001b[0m\n\u001b[0;32m----> 2\u001b[0;31m \u001b[0mmy_system\u001b[0m\u001b[0;34m=\u001b[0m\u001b[0mSystem\u001b[0m\u001b[0;34m(\u001b[0m\u001b[0;34m[\u001b[0m\u001b[0mmy_rules\u001b[0m\u001b[0;34m]\u001b[0m\u001b[0;34m,\u001b[0m \u001b[0mdata\u001b[0m\u001b[0;34m)\u001b[0m\u001b[0;34m\u001b[0m\u001b[0;34m\u001b[0m\u001b[0m\n\u001b[0m\u001b[1;32m      3\u001b[0m \u001b[0mmy_system\u001b[0m\u001b[0;34m\u001b[0m\u001b[0;34m\u001b[0m\u001b[0m\n",
      "\u001b[0;32m~/pysystemtrade/systems/basesystem.py\u001b[0m in \u001b[0;36m__init__\u001b[0;34m(self, stage_list, data, config, log)\u001b[0m\n\u001b[1;32m     73\u001b[0m \u001b[0;34m\u001b[0m\u001b[0m\n\u001b[1;32m     74\u001b[0m         \u001b[0mself\u001b[0m\u001b[0;34m.\u001b[0m\u001b[0mconfig\u001b[0m\u001b[0;34m.\u001b[0m\u001b[0msystem_init\u001b[0m\u001b[0;34m(\u001b[0m\u001b[0mself\u001b[0m\u001b[0;34m)\u001b[0m\u001b[0;34m\u001b[0m\u001b[0;34m\u001b[0m\u001b[0m\n\u001b[0;32m---> 75\u001b[0;31m         \u001b[0mself\u001b[0m\u001b[0;34m.\u001b[0m\u001b[0mdata\u001b[0m\u001b[0;34m.\u001b[0m\u001b[0msystem_init\u001b[0m\u001b[0;34m(\u001b[0m\u001b[0mself\u001b[0m\u001b[0;34m)\u001b[0m\u001b[0;34m\u001b[0m\u001b[0;34m\u001b[0m\u001b[0m\n\u001b[0m\u001b[1;32m     76\u001b[0m         \u001b[0mself\u001b[0m\u001b[0;34m.\u001b[0m\u001b[0m_setup_stages\u001b[0m\u001b[0;34m(\u001b[0m\u001b[0mstage_list\u001b[0m\u001b[0;34m)\u001b[0m\u001b[0;34m\u001b[0m\u001b[0;34m\u001b[0m\u001b[0m\n\u001b[1;32m     77\u001b[0m         \u001b[0mself\u001b[0m\u001b[0;34m.\u001b[0m\u001b[0m_cache\u001b[0m \u001b[0;34m=\u001b[0m \u001b[0msystemCache\u001b[0m\u001b[0;34m(\u001b[0m\u001b[0mself\u001b[0m\u001b[0;34m)\u001b[0m\u001b[0;34m\u001b[0m\u001b[0;34m\u001b[0m\u001b[0m\n",
      "\u001b[0;31mTypeError\u001b[0m: system_init() missing 1 required positional argument: 'base_system'"
     ]
    }
   ],
   "source": [
    "from systems.basesystem import System\n",
    "my_system=System([my_rules], data)\n",
    "my_system"
   ]
  },
  {
   "cell_type": "code",
   "execution_count": 15,
   "metadata": {},
   "outputs": [
    {
     "data": {
      "text/plain": [
       "TradingRule; function: <function ewmac_forecast_with_defaults at 0x7f601fe1e9d0>, data: data.daily_prices (args: {}) and other_args: "
      ]
     },
     "execution_count": 15,
     "metadata": {},
     "output_type": "execute_result"
    }
   ],
   "source": [
    "\n",
    "from systems.trading_rules import TradingRule\n",
    "\n",
    "ewmac_rule = TradingRule(ewmac)\n",
    "my_rules = Rules(dict(ewmac=ewmac_rule))\n",
    "ewmac_rule"
   ]
  },
  {
   "cell_type": "code",
   "execution_count": 16,
   "metadata": {},
   "outputs": [
    {
     "data": {
      "text/plain": [
       "TradingRule; function: <function ewmac_forecast_with_defaults at 0x7f601fe1e9d0>, data: data.daily_prices (args: {}) and other_args: Lfast, Lslow"
      ]
     },
     "execution_count": 16,
     "metadata": {},
     "output_type": "execute_result"
    }
   ],
   "source": [
    "ewmac_8=TradingRule((ewmac, [], dict(Lfast=8, Lslow=32))) \n",
    "## as a tuple (function, data, other_args) notice the empty element in the middle\n",
    "\n",
    "ewmac_32=TradingRule(dict(function=ewmac, other_args=dict(Lfast=32, Lslow=128)))  \n",
    "## as a dict\n",
    "\n",
    "my_rules=Rules(dict(ewmac8=ewmac_8, ewmac32=ewmac_32))\n",
    "my_rules.trading_rules()['ewmac32']"
   ]
  },
  {
   "cell_type": "code",
   "execution_count": 17,
   "metadata": {},
   "outputs": [
    {
     "ename": "TypeError",
     "evalue": "system_init() missing 1 required positional argument: 'base_system'",
     "output_type": "error",
     "traceback": [
      "\u001b[0;31m---------------------------------------------------------------------------\u001b[0m",
      "\u001b[0;31mTypeError\u001b[0m                                 Traceback (most recent call last)",
      "\u001b[0;32m/tmp/ipykernel_1761354/3479279161.py\u001b[0m in \u001b[0;36m<module>\u001b[0;34m\u001b[0m\n\u001b[0;32m----> 1\u001b[0;31m \u001b[0mmy_system\u001b[0m\u001b[0;34m=\u001b[0m\u001b[0mSystem\u001b[0m\u001b[0;34m(\u001b[0m\u001b[0;34m[\u001b[0m\u001b[0mmy_rules\u001b[0m\u001b[0;34m]\u001b[0m\u001b[0;34m,\u001b[0m \u001b[0mdata\u001b[0m\u001b[0;34m)\u001b[0m\u001b[0;34m\u001b[0m\u001b[0;34m\u001b[0m\u001b[0m\n\u001b[0m\u001b[1;32m      2\u001b[0m \u001b[0mmy_system\u001b[0m\u001b[0;34m.\u001b[0m\u001b[0mrules\u001b[0m\u001b[0;34m.\u001b[0m\u001b[0mget_raw_forecast\u001b[0m\u001b[0;34m(\u001b[0m\u001b[0;34m\"EDOLLAR\"\u001b[0m\u001b[0;34m,\u001b[0m \u001b[0;34m\"ewmac32\"\u001b[0m\u001b[0;34m)\u001b[0m\u001b[0;34m.\u001b[0m\u001b[0mtail\u001b[0m\u001b[0;34m(\u001b[0m\u001b[0;36m5\u001b[0m\u001b[0;34m)\u001b[0m\u001b[0;34m\u001b[0m\u001b[0;34m\u001b[0m\u001b[0m\n",
      "\u001b[0;32m~/pysystemtrade/systems/basesystem.py\u001b[0m in \u001b[0;36m__init__\u001b[0;34m(self, stage_list, data, config, log)\u001b[0m\n\u001b[1;32m     73\u001b[0m \u001b[0;34m\u001b[0m\u001b[0m\n\u001b[1;32m     74\u001b[0m         \u001b[0mself\u001b[0m\u001b[0;34m.\u001b[0m\u001b[0mconfig\u001b[0m\u001b[0;34m.\u001b[0m\u001b[0msystem_init\u001b[0m\u001b[0;34m(\u001b[0m\u001b[0mself\u001b[0m\u001b[0;34m)\u001b[0m\u001b[0;34m\u001b[0m\u001b[0;34m\u001b[0m\u001b[0m\n\u001b[0;32m---> 75\u001b[0;31m         \u001b[0mself\u001b[0m\u001b[0;34m.\u001b[0m\u001b[0mdata\u001b[0m\u001b[0;34m.\u001b[0m\u001b[0msystem_init\u001b[0m\u001b[0;34m(\u001b[0m\u001b[0mself\u001b[0m\u001b[0;34m)\u001b[0m\u001b[0;34m\u001b[0m\u001b[0;34m\u001b[0m\u001b[0m\n\u001b[0m\u001b[1;32m     76\u001b[0m         \u001b[0mself\u001b[0m\u001b[0;34m.\u001b[0m\u001b[0m_setup_stages\u001b[0m\u001b[0;34m(\u001b[0m\u001b[0mstage_list\u001b[0m\u001b[0;34m)\u001b[0m\u001b[0;34m\u001b[0m\u001b[0;34m\u001b[0m\u001b[0m\n\u001b[1;32m     77\u001b[0m         \u001b[0mself\u001b[0m\u001b[0;34m.\u001b[0m\u001b[0m_cache\u001b[0m \u001b[0;34m=\u001b[0m \u001b[0msystemCache\u001b[0m\u001b[0;34m(\u001b[0m\u001b[0mself\u001b[0m\u001b[0;34m)\u001b[0m\u001b[0;34m\u001b[0m\u001b[0;34m\u001b[0m\u001b[0m\n",
      "\u001b[0;31mTypeError\u001b[0m: system_init() missing 1 required positional argument: 'base_system'"
     ]
    }
   ],
   "source": [
    "my_system=System([my_rules], data)\n",
    "my_system.rules.get_raw_forecast(\"EDOLLAR\", \"ewmac32\").tail(5)"
   ]
  },
  {
   "cell_type": "code",
   "execution_count": 18,
   "metadata": {},
   "outputs": [],
   "source": [
    "from sysdata.config.configdata import Config \n",
    "my_config = Config()"
   ]
  },
  {
   "cell_type": "code",
   "execution_count": 19,
   "metadata": {},
   "outputs": [
    {
     "data": {
      "text/plain": [
       "Config with elements: "
      ]
     },
     "execution_count": 19,
     "metadata": {},
     "output_type": "execute_result"
    }
   ],
   "source": [
    "my_config"
   ]
  },
  {
   "cell_type": "code",
   "execution_count": 20,
   "metadata": {},
   "outputs": [],
   "source": [
    "empty_rules = Rules()\n",
    "my_config.trading_rules=dict(ewmac8=ewmac_8, ewmac32=ewmac_32)"
   ]
  },
  {
   "cell_type": "code",
   "execution_count": 22,
   "metadata": {},
   "outputs": [
    {
     "ename": "TypeError",
     "evalue": "system_init() missing 1 required positional argument: 'base_system'",
     "output_type": "error",
     "traceback": [
      "\u001b[0;31m---------------------------------------------------------------------------\u001b[0m",
      "\u001b[0;31mTypeError\u001b[0m                                 Traceback (most recent call last)",
      "\u001b[0;32m/tmp/ipykernel_1761354/2641336943.py\u001b[0m in \u001b[0;36m<module>\u001b[0;34m\u001b[0m\n\u001b[0;32m----> 1\u001b[0;31m \u001b[0mmy_system\u001b[0m\u001b[0;34m=\u001b[0m\u001b[0mSystem\u001b[0m\u001b[0;34m(\u001b[0m\u001b[0;34m[\u001b[0m\u001b[0mempty_rules\u001b[0m\u001b[0;34m]\u001b[0m\u001b[0;34m,\u001b[0m \u001b[0mdata\u001b[0m\u001b[0;34m,\u001b[0m \u001b[0mmy_config\u001b[0m\u001b[0;34m)\u001b[0m\u001b[0;34m\u001b[0m\u001b[0;34m\u001b[0m\u001b[0m\n\u001b[0m",
      "\u001b[0;32m~/pysystemtrade/systems/basesystem.py\u001b[0m in \u001b[0;36m__init__\u001b[0;34m(self, stage_list, data, config, log)\u001b[0m\n\u001b[1;32m     73\u001b[0m \u001b[0;34m\u001b[0m\u001b[0m\n\u001b[1;32m     74\u001b[0m         \u001b[0mself\u001b[0m\u001b[0;34m.\u001b[0m\u001b[0mconfig\u001b[0m\u001b[0;34m.\u001b[0m\u001b[0msystem_init\u001b[0m\u001b[0;34m(\u001b[0m\u001b[0mself\u001b[0m\u001b[0;34m)\u001b[0m\u001b[0;34m\u001b[0m\u001b[0;34m\u001b[0m\u001b[0m\n\u001b[0;32m---> 75\u001b[0;31m         \u001b[0mself\u001b[0m\u001b[0;34m.\u001b[0m\u001b[0mdata\u001b[0m\u001b[0;34m.\u001b[0m\u001b[0msystem_init\u001b[0m\u001b[0;34m(\u001b[0m\u001b[0mself\u001b[0m\u001b[0;34m)\u001b[0m\u001b[0;34m\u001b[0m\u001b[0;34m\u001b[0m\u001b[0m\n\u001b[0m\u001b[1;32m     76\u001b[0m         \u001b[0mself\u001b[0m\u001b[0;34m.\u001b[0m\u001b[0m_setup_stages\u001b[0m\u001b[0;34m(\u001b[0m\u001b[0mstage_list\u001b[0m\u001b[0;34m)\u001b[0m\u001b[0;34m\u001b[0m\u001b[0;34m\u001b[0m\u001b[0m\n\u001b[1;32m     77\u001b[0m         \u001b[0mself\u001b[0m\u001b[0;34m.\u001b[0m\u001b[0m_cache\u001b[0m \u001b[0;34m=\u001b[0m \u001b[0msystemCache\u001b[0m\u001b[0;34m(\u001b[0m\u001b[0mself\u001b[0m\u001b[0;34m)\u001b[0m\u001b[0;34m\u001b[0m\u001b[0;34m\u001b[0m\u001b[0m\n",
      "\u001b[0;31mTypeError\u001b[0m: system_init() missing 1 required positional argument: 'base_system'"
     ]
    }
   ],
   "source": [
    "my_system=System([empty_rules], data, my_config)"
   ]
  },
  {
   "cell_type": "code",
   "execution_count": null,
   "metadata": {},
   "outputs": [],
   "source": []
  }
 ],
 "metadata": {
  "kernelspec": {
   "display_name": "Python 3 (ipykernel)",
   "language": "python",
   "name": "python3"
  },
  "language_info": {
   "codemirror_mode": {
    "name": "ipython",
    "version": 3
   },
   "file_extension": ".py",
   "mimetype": "text/x-python",
   "name": "python",
   "nbconvert_exporter": "python",
   "pygments_lexer": "ipython3",
   "version": "3.8.11"
  },
  "vscode": {
   "interpreter": {
    "hash": "75c03a406a6f65c96c373596f0625eb8be2da6dd04ef9592ed23fe1e1378aaf6"
   }
  }
 },
 "nbformat": 4,
 "nbformat_minor": 2
}
