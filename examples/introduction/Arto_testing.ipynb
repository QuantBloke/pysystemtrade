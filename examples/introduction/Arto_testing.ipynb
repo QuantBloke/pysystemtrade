{
 "cells": [
  {
   "cell_type": "markdown",
   "metadata": {},
   "source": [
    "# Simple Trading Rule"
   ]
  },
  {
   "cell_type": "code",
   "execution_count": 1,
   "metadata": {},
   "outputs": [
    {
     "name": "stdout",
     "output_type": "stream",
     "text": [
      "Private configuration private.private_config.yaml does not exist; no problem if running in sim mode\n"
     ]
    }
   ],
   "source": [
    "from sysdata.sim.csv_futures_sim_data import csvFuturesSimData\n",
    "import matplotlib.pyplot as plt\n",
    "%matplotlib inline"
   ]
  },
  {
   "cell_type": "markdown",
   "metadata": {},
   "source": [
    "Work up a minimum example of a trend following system"
   ]
  },
  {
   "cell_type": "markdown",
   "metadata": {},
   "source": [
    "Let's get some data\n",
    "\n",
    "We can get data from various places; however for now we're going to use\n",
    "prepackaged 'legacy' data stored in csv files"
   ]
  },
  {
   "cell_type": "code",
   "execution_count": 2,
   "metadata": {},
   "outputs": [
    {
     "name": "stdout",
     "output_type": "stream",
     "text": [
      "No datapaths provided for .csv, will use defaults  (may break in production, should be fine in sim)\n",
      "No datapaths provided for .csv, will use defaults  (may break in production, should be fine in sim)\n",
      "No datapaths provided for .csv, will use defaults  (may break in production, should be fine in sim)\n",
      "No datapaths provided for .csv, will use defaults  (may break in production, should be fine in sim)\n",
      "No datapaths provided for .csv, will use defaults  (may break in production, should be fine in sim)\n"
     ]
    },
    {
     "data": {
      "text/plain": [
       "csvFuturesSimData object with 123 instruments"
      ]
     },
     "execution_count": 2,
     "metadata": {},
     "output_type": "execute_result"
    }
   ],
   "source": [
    "data = csvFuturesSimData()\n",
    "data"
   ]
  },
  {
   "cell_type": "markdown",
   "metadata": {},
   "source": [
    "We get stuff out of data with methods"
   ]
  },
  {
   "cell_type": "code",
   "execution_count": 3,
   "metadata": {},
   "outputs": [
    {
     "name": "stdout",
     "output_type": "stream",
     "text": [
      "['MXP', 'COPPER', 'MID-DAX', 'BRENT-LAST', 'NASDAQ', 'GOLD', 'ETHEREUM', 'FEEDCOW', 'GBP', 'TOPIX', 'US-UTILS', 'SOYOIL', 'CHEESE', 'REDWHEAT', 'SP500_micro', 'MILKDRY', 'GAS-LAST', 'USIRS5', 'SGD', 'US-DISCRETE', 'CAD', 'NASDAQ_micro', 'COPPER-mini', 'BITCOIN', 'HEATOIL', 'INR', 'NIKKEI', 'BTP', 'US-HEALTH', 'US-PROPERTY', 'FTSECHINAH', 'SHATZ', 'DAX', 'FTSECHINAA', 'SEK', 'JGB', 'V2X', 'BOBL', 'DOW', 'SP500', 'LIVECOW', 'BUXL', 'BRE', 'US30', 'MSCIASIA', 'SMI', 'VIX', 'MSCISING', 'EUR', 'KRWUSD', 'CORN', 'US3', 'BONO', 'SMI-MID', 'KOSDAQ', 'JP-REALESTATE', 'EUROSTX', 'GAS_US', 'US10', 'CAC', 'MILK', 'CRUDE_W_mini', 'BBCOMM', 'US10U', 'CNH', 'SGX', 'GBPEUR', 'PLAT', 'JGB-SGX-mini', 'US-INDUSTRY', 'KR10', 'US-REALESTATE', 'US-MATERIAL', 'USIRS5ERIS', 'US-ENERGY', 'FTSETAIWAN', 'OAT', 'SP400', 'NIKKEI400', 'US2', 'MUMMY', 'BTP3', 'AUD', 'RUR', 'FTSEINDO', 'SOYMEAL', 'US-FINANCE', 'LEANHOG', 'KR3', 'KOSPI_mini', 'CH10', 'AEX', 'SOYBEAN', 'NOK', 'RICE', 'USIRS10', 'KOSPI', 'R1000', 'IRON', 'US20', 'NIFTY', 'US-STAPLES', 'SILVER', 'US-TECH', 'EDOLLAR', 'YENEUR', 'JPY', 'CHF', 'RUSSELL', 'OATIES', 'GOLD_micro', 'VNKI', 'GAS_US_mini', 'LUMBER', 'CRUDE_W', 'WHEAT', 'DJSTX-SMALL', 'US5', 'ALUMINIUM', 'NZD', 'GASOILINE', 'BUND', 'PALLAD']\n",
      "index\n",
      "2021-11-30 15:00:00    98.345\n",
      "2021-11-30 16:00:00    98.340\n",
      "2021-11-30 17:00:00    98.355\n",
      "2021-11-30 18:00:00    98.365\n",
      "2021-11-30 19:00:00    98.370\n",
      "Name: price, dtype: float64\n"
     ]
    }
   ],
   "source": [
    "print(data.get_instrument_list())\n",
    "print(data.get_raw_price(\"EDOLLAR\").tail(5))"
   ]
  },
  {
   "cell_type": "markdown",
   "metadata": {},
   "source": [
    "data can also behave in a dict like manner (though it's not a dict)"
   ]
  },
  {
   "cell_type": "code",
   "execution_count": 4,
   "metadata": {},
   "outputs": [
    {
     "data": {
      "text/plain": [
       "index\n",
       "1982-06-11 23:00:00     397.65\n",
       "1982-06-14 23:00:00     394.65\n",
       "1982-06-15 23:00:00     396.00\n",
       "1982-06-16 23:00:00     394.20\n",
       "1982-06-17 23:00:00     391.60\n",
       "                        ...   \n",
       "2021-11-30 16:00:00    4576.75\n",
       "2021-11-30 17:00:00    4575.00\n",
       "2021-11-30 18:00:00    4592.50\n",
       "2021-11-30 19:00:00    4577.25\n",
       "2021-11-30 20:00:00    4578.50\n",
       "Name: price, Length: 21367, dtype: float64"
      ]
     },
     "execution_count": 4,
     "metadata": {},
     "output_type": "execute_result"
    }
   ],
   "source": [
    "data['SP500']"
   ]
  },
  {
   "cell_type": "code",
   "execution_count": 5,
   "metadata": {},
   "outputs": [
    {
     "data": {
      "text/plain": [
       "['MXP',\n",
       " 'COPPER',\n",
       " 'MID-DAX',\n",
       " 'BRENT-LAST',\n",
       " 'NASDAQ',\n",
       " 'GOLD',\n",
       " 'ETHEREUM',\n",
       " 'FEEDCOW',\n",
       " 'GBP',\n",
       " 'TOPIX',\n",
       " 'US-UTILS',\n",
       " 'SOYOIL',\n",
       " 'CHEESE',\n",
       " 'REDWHEAT',\n",
       " 'SP500_micro',\n",
       " 'MILKDRY',\n",
       " 'GAS-LAST',\n",
       " 'USIRS5',\n",
       " 'SGD',\n",
       " 'US-DISCRETE',\n",
       " 'CAD',\n",
       " 'NASDAQ_micro',\n",
       " 'COPPER-mini',\n",
       " 'BITCOIN',\n",
       " 'HEATOIL',\n",
       " 'INR',\n",
       " 'NIKKEI',\n",
       " 'BTP',\n",
       " 'US-HEALTH',\n",
       " 'US-PROPERTY',\n",
       " 'FTSECHINAH',\n",
       " 'SHATZ',\n",
       " 'DAX',\n",
       " 'FTSECHINAA',\n",
       " 'SEK',\n",
       " 'JGB',\n",
       " 'V2X',\n",
       " 'BOBL',\n",
       " 'DOW',\n",
       " 'SP500',\n",
       " 'LIVECOW',\n",
       " 'BUXL',\n",
       " 'BRE',\n",
       " 'US30',\n",
       " 'MSCIASIA',\n",
       " 'SMI',\n",
       " 'VIX',\n",
       " 'MSCISING',\n",
       " 'EUR',\n",
       " 'KRWUSD',\n",
       " 'CORN',\n",
       " 'US3',\n",
       " 'BONO',\n",
       " 'SMI-MID',\n",
       " 'KOSDAQ',\n",
       " 'JP-REALESTATE',\n",
       " 'EUROSTX',\n",
       " 'GAS_US',\n",
       " 'US10',\n",
       " 'CAC',\n",
       " 'MILK',\n",
       " 'CRUDE_W_mini',\n",
       " 'BBCOMM',\n",
       " 'US10U',\n",
       " 'CNH',\n",
       " 'SGX',\n",
       " 'GBPEUR',\n",
       " 'PLAT',\n",
       " 'JGB-SGX-mini',\n",
       " 'US-INDUSTRY',\n",
       " 'KR10',\n",
       " 'US-REALESTATE',\n",
       " 'US-MATERIAL',\n",
       " 'USIRS5ERIS',\n",
       " 'US-ENERGY',\n",
       " 'FTSETAIWAN',\n",
       " 'OAT',\n",
       " 'SP400',\n",
       " 'NIKKEI400',\n",
       " 'US2',\n",
       " 'MUMMY',\n",
       " 'BTP3',\n",
       " 'AUD',\n",
       " 'RUR',\n",
       " 'FTSEINDO',\n",
       " 'SOYMEAL',\n",
       " 'US-FINANCE',\n",
       " 'LEANHOG',\n",
       " 'KR3',\n",
       " 'KOSPI_mini',\n",
       " 'CH10',\n",
       " 'AEX',\n",
       " 'SOYBEAN',\n",
       " 'NOK',\n",
       " 'RICE',\n",
       " 'USIRS10',\n",
       " 'KOSPI',\n",
       " 'R1000',\n",
       " 'IRON',\n",
       " 'US20',\n",
       " 'NIFTY',\n",
       " 'US-STAPLES',\n",
       " 'SILVER',\n",
       " 'US-TECH',\n",
       " 'EDOLLAR',\n",
       " 'YENEUR',\n",
       " 'JPY',\n",
       " 'CHF',\n",
       " 'RUSSELL',\n",
       " 'OATIES',\n",
       " 'GOLD_micro',\n",
       " 'VNKI',\n",
       " 'GAS_US_mini',\n",
       " 'LUMBER',\n",
       " 'CRUDE_W',\n",
       " 'WHEAT',\n",
       " 'DJSTX-SMALL',\n",
       " 'US5',\n",
       " 'ALUMINIUM',\n",
       " 'NZD',\n",
       " 'GASOILINE',\n",
       " 'BUND',\n",
       " 'PALLAD']"
      ]
     },
     "execution_count": 5,
     "metadata": {},
     "output_type": "execute_result"
    }
   ],
   "source": [
    "data.keys()"
   ]
  },
  {
   "cell_type": "markdown",
   "metadata": {},
   "source": [
    "... however this will only access prices\n",
    "(note these prices have already been backadjusted for rolls)\n",
    "\n",
    "We have extra futures data here"
   ]
  },
  {
   "cell_type": "code",
   "execution_count": 6,
   "metadata": {},
   "outputs": [
    {
     "data": {
      "text/html": [
       "<div>\n",
       "<style scoped>\n",
       "    .dataframe tbody tr th:only-of-type {\n",
       "        vertical-align: middle;\n",
       "    }\n",
       "\n",
       "    .dataframe tbody tr th {\n",
       "        vertical-align: top;\n",
       "    }\n",
       "\n",
       "    .dataframe thead th {\n",
       "        text-align: right;\n",
       "    }\n",
       "</style>\n",
       "<table border=\"1\" class=\"dataframe\">\n",
       "  <thead>\n",
       "    <tr style=\"text-align: right;\">\n",
       "      <th></th>\n",
       "      <th>PRICE</th>\n",
       "      <th>CARRY</th>\n",
       "      <th>PRICE_CONTRACT</th>\n",
       "      <th>CARRY_CONTRACT</th>\n",
       "    </tr>\n",
       "    <tr>\n",
       "      <th>index</th>\n",
       "      <th></th>\n",
       "      <th></th>\n",
       "      <th></th>\n",
       "      <th></th>\n",
       "    </tr>\n",
       "  </thead>\n",
       "  <tbody>\n",
       "    <tr>\n",
       "      <th>2021-11-30 14:30:00</th>\n",
       "      <td>98.430</td>\n",
       "      <td>98.475</td>\n",
       "      <td>20240600</td>\n",
       "      <td>20240300</td>\n",
       "    </tr>\n",
       "    <tr>\n",
       "      <th>2021-11-30 15:00:00</th>\n",
       "      <td>98.345</td>\n",
       "      <td>98.370</td>\n",
       "      <td>20240600</td>\n",
       "      <td>20240300</td>\n",
       "    </tr>\n",
       "    <tr>\n",
       "      <th>2021-11-30 16:00:00</th>\n",
       "      <td>98.340</td>\n",
       "      <td>98.365</td>\n",
       "      <td>20240600</td>\n",
       "      <td>20240300</td>\n",
       "    </tr>\n",
       "    <tr>\n",
       "      <th>2021-11-30 17:00:00</th>\n",
       "      <td>98.355</td>\n",
       "      <td>98.380</td>\n",
       "      <td>20240600</td>\n",
       "      <td>20240300</td>\n",
       "    </tr>\n",
       "    <tr>\n",
       "      <th>2021-11-30 18:00:00</th>\n",
       "      <td>98.365</td>\n",
       "      <td>98.390</td>\n",
       "      <td>20240600</td>\n",
       "      <td>20240300</td>\n",
       "    </tr>\n",
       "    <tr>\n",
       "      <th>2021-11-30 19:00:00</th>\n",
       "      <td>98.370</td>\n",
       "      <td>98.395</td>\n",
       "      <td>20240600</td>\n",
       "      <td>20240300</td>\n",
       "    </tr>\n",
       "  </tbody>\n",
       "</table>\n",
       "</div>"
      ],
      "text/plain": [
       "                      PRICE   CARRY PRICE_CONTRACT CARRY_CONTRACT\n",
       "index                                                            \n",
       "2021-11-30 14:30:00  98.430  98.475       20240600       20240300\n",
       "2021-11-30 15:00:00  98.345  98.370       20240600       20240300\n",
       "2021-11-30 16:00:00  98.340  98.365       20240600       20240300\n",
       "2021-11-30 17:00:00  98.355  98.380       20240600       20240300\n",
       "2021-11-30 18:00:00  98.365  98.390       20240600       20240300\n",
       "2021-11-30 19:00:00  98.370  98.395       20240600       20240300"
      ]
     },
     "execution_count": 6,
     "metadata": {},
     "output_type": "execute_result"
    }
   ],
   "source": [
    "data.get_instrument_raw_carry_data(\"EDOLLAR\").tail(6)"
   ]
  },
  {
   "cell_type": "markdown",
   "metadata": {},
   "source": [
    "Technical note: csvFuturesSimData inherits from FuturesData which itself inherits from simData\n",
    "The chain is 'data specific' <- 'asset class specific' <- 'generic'\n",
    "\n",
    "Let's create a simple trading rule\n",
    "\n",
    "No capping or scaling"
   ]
  },
  {
   "cell_type": "code",
   "execution_count": 7,
   "metadata": {},
   "outputs": [],
   "source": [
    "import pandas as pd\n",
    "from sysquant.estimators.vol import robust_vol_calc\n",
    "\n",
    "\n",
    "def calc_ewmac_forecast(price, Lfast, Lslow=None):\n",
    "    \"\"\"\n",
    "    Calculate the ewmac trading rule forecast, given a price and EWMA speeds\n",
    "    Lfast, Lslow and vol_lookback\n",
    "\n",
    "    \"\"\"\n",
    "    # price: This is the stitched price series\n",
    "    # We can't use the price of the contract we're trading, or the volatility\n",
    "    # will be jumpy\n",
    "    # And we'll miss out on the rolldown. See\n",
    "    # https://qoppac.blogspot.com/2015/05/systems-building-futures-rolling.html\n",
    "\n",
    "    price = price.resample(\"1B\").last()\n",
    "\n",
    "    if Lslow is None:\n",
    "        Lslow = 4 * Lfast\n",
    "\n",
    "    # We don't need to calculate the decay parameter, just use the span\n",
    "    # directly\n",
    "    fast_ewma = price.ewm(span=Lfast).mean()\n",
    "    slow_ewma = price.ewm(span=Lslow).mean()\n",
    "    raw_ewmac = fast_ewma - slow_ewma\n",
    "    vol = robust_vol_calc(price.diff())\n",
    "    return raw_ewmac / vol"
   ]
  },
  {
   "cell_type": "markdown",
   "metadata": {},
   "source": [
    "\n",
    "Try it out\n",
    "\n",
    "(this isn't properly scaled at this stage of course)\n"
   ]
  },
  {
   "cell_type": "code",
   "execution_count": 8,
   "metadata": {},
   "outputs": [
    {
     "data": {
      "text/plain": [
       "index\n",
       "2021-11-24   -4.282431\n",
       "2021-11-25   -4.282431\n",
       "2021-11-26   -4.254424\n",
       "2021-11-29   -4.221073\n",
       "2021-11-30   -4.277213\n",
       "Freq: B, Name: price, dtype: float64"
      ]
     },
     "execution_count": 8,
     "metadata": {},
     "output_type": "execute_result"
    }
   ],
   "source": [
    "instrument_code = 'EDOLLAR'\n",
    "price = data.daily_prices(instrument_code)\n",
    "ewmac = calc_ewmac_forecast(price, 32, 128)\n",
    "ewmac.columns = ['forecast']\n",
    "ewmac.tail(5)"
   ]
  },
  {
   "cell_type": "code",
   "execution_count": 9,
   "metadata": {},
   "outputs": [
    {
     "data": {
      "text/plain": [
       "Text(0.5, 0, 'Time')"
      ]
     },
     "execution_count": 9,
     "metadata": {},
     "output_type": "execute_result"
    },
    {
     "data": {
      "image/png": "[encoded data removed]",
      "text/plain": [
       "<Figure size 432x288 with 1 Axes>"
      ]
     },
     "metadata": {
      "needs_background": "light"
     },
     "output_type": "display_data"
    }
   ],
   "source": [
    "ewmac.plot();\n",
    "plt.title('Forecast')\n",
    "plt.ylabel('Position')\n",
    "plt.xlabel('Time')"
   ]
  },
  {
   "cell_type": "markdown",
   "metadata": {},
   "source": [
    "\n",
    "Did we make money?\n"
   ]
  },
  {
   "cell_type": "code",
   "execution_count": 10,
   "metadata": {
    "scrolled": false
   },
   "outputs": [
    {
     "data": {
      "image/png": "[encoded data removed]",
      "text/plain": [
       "<Figure size 432x288 with 1 Axes>"
      ]
     },
     "metadata": {
      "needs_background": "light"
     },
     "output_type": "display_data"
    }
   ],
   "source": [
    "from systems.accounts.account_forecast import pandl_for_instrument_forecast\n",
    "account = pandl_for_instrument_forecast(forecast=ewmac, price = price)\n",
    "account.curve().plot();\n",
    "plt.title('Profit and Loss')\n",
    "plt.ylabel('PnL')\n",
    "plt.xlabel('Time');"
   ]
  },
  {
   "cell_type": "code",
   "execution_count": 13,
   "metadata": {},
   "outputs": [
    {
     "data": {
      "text/plain": [
       "[[('min', '-5.81'),\n",
       "  ('max', '5.141'),\n",
       "  ('median', '0'),\n",
       "  ('mean', '0.01502'),\n",
       "  ('std', '0.5036'),\n",
       "  ('skew', '-0.1824'),\n",
       "  ('ann_mean', '3.846'),\n",
       "  ('ann_std', '8.057'),\n",
       "  ('sharpe', '0.4773'),\n",
       "  ('sortino', '0.5659'),\n",
       "  ('avg_drawdown', '-11.37'),\n",
       "  ('time_in_drawdown', '0.9738'),\n",
       "  ('calmar', '0.1078'),\n",
       "  ('avg_return_to_drawdown', '0.3382'),\n",
       "  ('avg_loss', '-0.3198'),\n",
       "  ('avg_gain', '0.33'),\n",
       "  ('gaintolossratio', '1.032'),\n",
       "  ('profitfactor', '1.107'),\n",
       "  ('hitrate', '0.5175'),\n",
       "  ('t_stat', '2.935'),\n",
       "  ('p_value', '0.003342')],\n",
       " ('You can also plot / print:',\n",
       "  ['rolling_ann_std', 'drawdown', 'curve', 'percent'])]"
      ]
     },
     "execution_count": 13,
     "metadata": {},
     "output_type": "execute_result"
    }
   ],
   "source": [
    "account.percent.stats()"
   ]
  },
  {
   "cell_type": "markdown",
   "metadata": {},
   "source": [
    "## simple system"
   ]
  },
  {
   "cell_type": "code",
   "execution_count": 2,
   "metadata": {},
   "outputs": [],
   "source": [
    "from sysdata.sim.csv_futures_sim_data import csvFuturesSimData\n"
   ]
  },
  {
   "cell_type": "code",
   "execution_count": 3,
   "metadata": {},
   "outputs": [
    {
     "name": "stdout",
     "output_type": "stream",
     "text": [
      "No datapaths provided for .csv, will use defaults  (may break in production, should be fine in sim)\n",
      "No datapaths provided for .csv, will use defaults  (may break in production, should be fine in sim)\n",
      "No datapaths provided for .csv, will use defaults  (may break in production, should be fine in sim)\n",
      "No datapaths provided for .csv, will use defaults  (may break in production, should be fine in sim)\n",
      "No datapaths provided for .csv, will use defaults  (may break in production, should be fine in sim)\n"
     ]
    }
   ],
   "source": [
    "\n",
    "data = csvFuturesSimData()\n"
   ]
  },
  {
   "cell_type": "code",
   "execution_count": 7,
   "metadata": {},
   "outputs": [
    {
     "name": "stdout",
     "output_type": "stream",
     "text": [
      "/home/arto/pysystemtrade\n"
     ]
    }
   ],
   "source": [
    "cd ../../"
   ]
  },
  {
   "cell_type": "code",
   "execution_count": 11,
   "metadata": {},
   "outputs": [
    {
     "data": {
      "text/plain": [
       "'/home/arto/pysystemtrade'"
      ]
     },
     "execution_count": 11,
     "metadata": {},
     "output_type": "execute_result"
    }
   ],
   "source": [
    "pwd"
   ]
  },
  {
   "cell_type": "code",
   "execution_count": 10,
   "metadata": {},
   "outputs": [
    {
     "ename": "ModuleNotFoundError",
     "evalue": "No module named 'systems.provided.rules'",
     "output_type": "error",
     "traceback": [
      "\u001b[0;31m---------------------------------------------------------------------------\u001b[0m",
      "\u001b[0;31mModuleNotFoundError\u001b[0m                       Traceback (most recent call last)",
      "\u001b[0;32m/tmp/ipykernel_25478/841272115.py\u001b[0m in \u001b[0;36m<module>\u001b[0;34m\u001b[0m\n\u001b[1;32m      1\u001b[0m \u001b[0;31m#from systems.provided.rules.ewmac import ewmac_forecast_with_defaults as ewmac\u001b[0m\u001b[0;34m\u001b[0m\u001b[0;34m\u001b[0m\u001b[0;34m\u001b[0m\u001b[0m\n\u001b[0;32m----> 2\u001b[0;31m \u001b[0;32mfrom\u001b[0m \u001b[0msystems\u001b[0m\u001b[0;34m.\u001b[0m\u001b[0mprovided\u001b[0m\u001b[0;34m.\u001b[0m\u001b[0mrules\u001b[0m\u001b[0;34m.\u001b[0m\u001b[0mewmac\u001b[0m \u001b[0;32mimport\u001b[0m \u001b[0mewmac_calc_vol\u001b[0m\u001b[0;34m\u001b[0m\u001b[0;34m\u001b[0m\u001b[0m\n\u001b[0m\u001b[1;32m      3\u001b[0m \u001b[0;34m\u001b[0m\u001b[0m\n",
      "\u001b[0;31mModuleNotFoundError\u001b[0m: No module named 'systems.provided.rules'"
     ]
    }
   ],
   "source": [
    "\n",
    "#from systems.provided.rules.ewmac import ewmac_forecast_with_defaults as ewmac\n",
    "from systems.provided.rules.ewmac import ewmac_calc_vol\n",
    "\n"
   ]
  },
  {
   "cell_type": "code",
   "execution_count": 12,
   "metadata": {},
   "outputs": [
    {
     "ename": "ModuleNotFoundError",
     "evalue": "No module named 'systems.provided.rules'",
     "output_type": "error",
     "traceback": [
      "\u001b[0;31m---------------------------------------------------------------------------\u001b[0m",
      "\u001b[0;31mModuleNotFoundError\u001b[0m                       Traceback (most recent call last)",
      "\u001b[0;32m/tmp/ipykernel_25478/3012523076.py\u001b[0m in \u001b[0;36m<module>\u001b[0;34m\u001b[0m\n\u001b[0;32m----> 1\u001b[0;31m \u001b[0;32mfrom\u001b[0m \u001b[0msystems\u001b[0m\u001b[0;34m.\u001b[0m\u001b[0mprovided\u001b[0m\u001b[0;34m.\u001b[0m\u001b[0mrules\u001b[0m\u001b[0;34m.\u001b[0m\u001b[0mewmac\u001b[0m \u001b[0;32mimport\u001b[0m \u001b[0mewmac_forecast_with_defaults\u001b[0m\u001b[0;34m\u001b[0m\u001b[0;34m\u001b[0m\u001b[0m\n\u001b[0m",
      "\u001b[0;31mModuleNotFoundError\u001b[0m: No module named 'systems.provided.rules'"
     ]
    }
   ],
   "source": [
    "from systems.provided.rules.ewmac import ewmac_forecast_with_defaults"
   ]
  },
  {
   "cell_type": "markdown",
   "metadata": {},
   "source": []
  }
 ],
 "metadata": {
  "kernelspec": {
   "display_name": "Python 3.8.5 ('pysystemtrade385')",
   "language": "python",
   "name": "python3"
  },
  "language_info": {
   "codemirror_mode": {
    "name": "ipython",
    "version": 3
   },
   "file_extension": ".py",
   "mimetype": "text/x-python",
   "name": "python",
   "nbconvert_exporter": "python",
   "pygments_lexer": "ipython3",
   "version": "3.8.5"
  },
  "vscode": {
   "interpreter": {
    "hash": "68bf81390e1c72ce1d145b9b58438737521caabbe7152b4599d21b9ae67478d2"
   }
  }
 },
 "nbformat": 4,
 "nbformat_minor": 1
}
